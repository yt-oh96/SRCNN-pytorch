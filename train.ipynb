{
 "cells": [
  {
   "cell_type": "code",
   "execution_count": 1,
   "metadata": {},
   "outputs": [
    {
     "name": "stdout",
     "output_type": "stream",
     "text": [
      "importing Jupyter notebook from model.ipynb\n",
      "importing Jupyter notebook from Dataset.ipynb\n",
      "importing Jupyter notebook from utils.ipynb\n"
     ]
    }
   ],
   "source": [
    "import import_ipynb\n",
    "\n",
    "import easydict\n",
    " \n",
    "import os\n",
    "import copy\n",
    "\n",
    "import torch\n",
    "import torch.nn as nn\n",
    "import torch.optim as optim\n",
    "\n",
    "from torch.utils.data.dataloader import DataLoader\n",
    "from tqdm import tqdm\n",
    "\n",
    "from model import SRCNN\n",
    "from Dataset import TrainDataset, EvalDataset\n",
    "from utils import AverageMeter, calc_psnr\n"
   ]
  },
  {
   "cell_type": "code",
   "execution_count": 2,
   "metadata": {},
   "outputs": [],
   "source": [
    "os.environ[\"CUDA_DEVICE_ORDER\"]=\"PCI_BUS_ID\"\n",
    "os.environ[\"CUDA_VISIBLE_DEVICES\"]=\"1\""
   ]
  },
  {
   "cell_type": "code",
   "execution_count": 3,
   "metadata": {},
   "outputs": [],
   "source": [
    "def train(train_file, eval_file, outputs_dir, scale,\n",
    "         lr, batch_size, num_epochs, num_workers, seed):\n",
    "    \n",
    "    device = torch.device('cuda' if torch.cuda.is_available() else 'cpu')\n",
    "    \n",
    "    if not os.path.exists(outputs_dir):\n",
    "        os.makedirs(outputs_dir)\n",
    "    \n",
    "    torch.backends.cudnn.deterministic = True\n",
    "    torch.backends.cudnn.benchmark = False\n",
    "    torch.manual_seed(seed)\n",
    "    \n",
    "    model = SRCNN().to(device)\n",
    "    \n",
    "    criterion = nn.MSELoss()\n",
    "    \n",
    "    optimizer = optim.Adam([\n",
    "        {'params': model.conv1.parameters()},\n",
    "        {'params': model.conv2.parameters()},\n",
    "        {'params': model.conv3.parameters(), 'lr': args.lr * 0.1}\n",
    "    ], lr=args.lr)\n",
    "    \n",
    "    train_dataset = TrainDataset(train_file)\n",
    "    train_dataloader = DataLoader(dataset=train_dataset,\n",
    "                                  batch_size=batch_size,\n",
    "                                  shuffle=True,\n",
    "                                  num_workers=num_workers,\n",
    "                                  pin_memory=True,\n",
    "                                  drop_last=True)\n",
    "    \n",
    "    eval_dataset = EvalDataset(eval_file)\n",
    "    eval_dataloader = DataLoader(dataset=eval_dataset, batch_size=1)\n",
    "    \n",
    "    best_weights = copy.deepcopy(model.state_dict())\n",
    "    best_epoch = 0\n",
    "    best_psnr = 0.0\n",
    "    \n",
    "    for epoch in range(num_epochs):\n",
    "        model.train()\n",
    "        epoch_losses = AverageMeter()\n",
    "        \n",
    "        with tqdm(total=(len(train_dataset) - len(train_dataset) % batch_size)) as t:\n",
    "            t.set_description('epoch: {}/{}'.format(epoch, num_epochs - 1))\n",
    "            \n",
    "            for data in train_dataloader:\n",
    "                inputs, labels = data\n",
    "\n",
    "                inputs = inputs.to(device)\n",
    "                labels = labels.to(device)\n",
    "\n",
    "                preds = model(inputs)\n",
    "                loss = criterion(preds, labels)\n",
    "\n",
    "                epoch_losses.update(loss.item(), len(inputs))\n",
    "\n",
    "                optimizer.zero_grad()\n",
    "                loss.backward()\n",
    "                optimizer.step()\n",
    "\n",
    "                t.set_postfix(loss='{:.6f}'.format(epoch_losses.avg))\n",
    "                t.update(len(inputs))\n",
    "\n",
    "        torch.save(model.state_dict(), os.path.join(outputs_dir, 'epoch_{}.pth'.format(epoch)))\n",
    "        \n",
    "        model.eval()\n",
    "        epoch_psnr = AverageMeter()\n",
    "\n",
    "        for data in eval_dataloader:\n",
    "            inputs, labels = data\n",
    "\n",
    "            inputs = inputs.to(device)\n",
    "            labels = labels.to(device)\n",
    "\n",
    "            with torch.no_grad():\n",
    "                preds = model(inputs).clamp(0.0, 1.0)\n",
    "\n",
    "            epoch_psnr.update(calc_psnr(preds, labels), len(inputs))\n",
    "\n",
    "        print('eval psnr: {:.2f}'.format(epoch_psnr.avg))\n",
    "\n",
    "        if epoch_psnr.avg > best_psnr:\n",
    "            best_epoch = epoch\n",
    "            best_psnr = epoch_psnr.avg\n",
    "            best_weights = copy.deepcopy(model.state_dict())\n",
    "\n",
    "    print('best epoch: {}, psnr: {:.2f}'.format(best_epoch, best_psnr))\n",
    "    torch.save(best_weights, os.path.join(outputs_dir, 'best.pth'))\n"
   ]
  },
  {
   "cell_type": "code",
   "execution_count": 4,
   "metadata": {},
   "outputs": [
    {
     "name": "stderr",
     "output_type": "stream",
     "text": [
      "epoch: 0/399: 100%|██████████| 21872/21872 [00:19<00:00, 1142.26it/s, loss=0.004404]\n",
      "epoch: 1/399:   0%|          | 0/21872 [00:00<?, ?it/s]"
     ]
    },
    {
     "name": "stdout",
     "output_type": "stream",
     "text": [
      "eval psnr: 31.97\n"
     ]
    },
    {
     "name": "stderr",
     "output_type": "stream",
     "text": [
      "epoch: 1/399: 100%|██████████| 21872/21872 [00:13<00:00, 1598.32it/s, loss=0.001455]\n",
      "epoch: 2/399:   0%|          | 0/21872 [00:00<?, ?it/s]"
     ]
    },
    {
     "name": "stdout",
     "output_type": "stream",
     "text": [
      "eval psnr: 32.00\n"
     ]
    },
    {
     "name": "stderr",
     "output_type": "stream",
     "text": [
      "epoch: 2/399: 100%|██████████| 21872/21872 [00:13<00:00, 1595.84it/s, loss=0.001399]\n",
      "epoch: 3/399:   0%|          | 0/21872 [00:00<?, ?it/s]"
     ]
    },
    {
     "name": "stdout",
     "output_type": "stream",
     "text": [
      "eval psnr: 31.91\n"
     ]
    },
    {
     "name": "stderr",
     "output_type": "stream",
     "text": [
      "epoch: 3/399: 100%|██████████| 21872/21872 [00:13<00:00, 1606.00it/s, loss=0.001373]\n",
      "epoch: 4/399:   0%|          | 0/21872 [00:00<?, ?it/s]"
     ]
    },
    {
     "name": "stdout",
     "output_type": "stream",
     "text": [
      "eval psnr: 31.76\n"
     ]
    },
    {
     "name": "stderr",
     "output_type": "stream",
     "text": [
      "epoch: 4/399: 100%|██████████| 21872/21872 [00:13<00:00, 1600.76it/s, loss=0.001357]\n",
      "epoch: 5/399:   0%|          | 0/21872 [00:00<?, ?it/s]"
     ]
    },
    {
     "name": "stdout",
     "output_type": "stream",
     "text": [
      "eval psnr: 31.75\n"
     ]
    },
    {
     "name": "stderr",
     "output_type": "stream",
     "text": [
      "epoch: 5/399: 100%|██████████| 21872/21872 [00:13<00:00, 1582.65it/s, loss=0.001346]\n",
      "epoch: 6/399:   0%|          | 0/21872 [00:00<?, ?it/s]"
     ]
    },
    {
     "name": "stdout",
     "output_type": "stream",
     "text": [
      "eval psnr: 31.64\n"
     ]
    },
    {
     "name": "stderr",
     "output_type": "stream",
     "text": [
      "epoch: 6/399: 100%|██████████| 21872/21872 [00:13<00:00, 1594.16it/s, loss=0.001333]\n",
      "epoch: 7/399:   0%|          | 0/21872 [00:00<?, ?it/s]"
     ]
    },
    {
     "name": "stdout",
     "output_type": "stream",
     "text": [
      "eval psnr: 31.53\n"
     ]
    },
    {
     "name": "stderr",
     "output_type": "stream",
     "text": [
      "epoch: 7/399: 100%|██████████| 21872/21872 [00:13<00:00, 1611.21it/s, loss=0.001324]\n",
      "epoch: 8/399:   0%|          | 0/21872 [00:00<?, ?it/s]"
     ]
    },
    {
     "name": "stdout",
     "output_type": "stream",
     "text": [
      "eval psnr: 31.70\n"
     ]
    },
    {
     "name": "stderr",
     "output_type": "stream",
     "text": [
      "epoch: 8/399: 100%|██████████| 21872/21872 [00:13<00:00, 1601.07it/s, loss=0.001315]\n",
      "epoch: 9/399:   0%|          | 0/21872 [00:00<?, ?it/s]"
     ]
    },
    {
     "name": "stdout",
     "output_type": "stream",
     "text": [
      "eval psnr: 31.59\n"
     ]
    },
    {
     "name": "stderr",
     "output_type": "stream",
     "text": [
      "epoch: 9/399: 100%|██████████| 21872/21872 [00:13<00:00, 1597.18it/s, loss=0.001308]\n",
      "epoch: 10/399:   0%|          | 0/21872 [00:00<?, ?it/s]"
     ]
    },
    {
     "name": "stdout",
     "output_type": "stream",
     "text": [
      "eval psnr: 31.54\n"
     ]
    },
    {
     "name": "stderr",
     "output_type": "stream",
     "text": [
      "epoch: 10/399: 100%|██████████| 21872/21872 [00:13<00:00, 1599.33it/s, loss=0.001302]\n",
      "epoch: 11/399:   0%|          | 0/21872 [00:00<?, ?it/s]"
     ]
    },
    {
     "name": "stdout",
     "output_type": "stream",
     "text": [
      "eval psnr: 31.32\n"
     ]
    },
    {
     "name": "stderr",
     "output_type": "stream",
     "text": [
      "epoch: 11/399: 100%|██████████| 21872/21872 [00:13<00:00, 1599.81it/s, loss=0.001294]\n",
      "epoch: 12/399:   0%|          | 0/21872 [00:00<?, ?it/s]"
     ]
    },
    {
     "name": "stdout",
     "output_type": "stream",
     "text": [
      "eval psnr: 31.41\n"
     ]
    },
    {
     "name": "stderr",
     "output_type": "stream",
     "text": [
      "epoch: 12/399: 100%|██████████| 21872/21872 [00:13<00:00, 1604.00it/s, loss=0.001289]\n",
      "epoch: 13/399:   0%|          | 0/21872 [00:00<?, ?it/s]"
     ]
    },
    {
     "name": "stdout",
     "output_type": "stream",
     "text": [
      "eval psnr: 31.37\n"
     ]
    },
    {
     "name": "stderr",
     "output_type": "stream",
     "text": [
      "epoch: 13/399: 100%|██████████| 21872/21872 [00:13<00:00, 1600.12it/s, loss=0.001282]\n",
      "epoch: 14/399:   0%|          | 0/21872 [00:00<?, ?it/s]"
     ]
    },
    {
     "name": "stdout",
     "output_type": "stream",
     "text": [
      "eval psnr: 31.30\n"
     ]
    },
    {
     "name": "stderr",
     "output_type": "stream",
     "text": [
      "epoch: 14/399: 100%|██████████| 21872/21872 [00:13<00:00, 1638.31it/s, loss=0.001278]\n",
      "epoch: 15/399:   0%|          | 0/21872 [00:00<?, ?it/s]"
     ]
    },
    {
     "name": "stdout",
     "output_type": "stream",
     "text": [
      "eval psnr: 31.26\n"
     ]
    },
    {
     "name": "stderr",
     "output_type": "stream",
     "text": [
      "epoch: 15/399: 100%|██████████| 21872/21872 [00:13<00:00, 1605.84it/s, loss=0.001273]\n",
      "epoch: 16/399:   0%|          | 0/21872 [00:00<?, ?it/s]"
     ]
    },
    {
     "name": "stdout",
     "output_type": "stream",
     "text": [
      "eval psnr: 31.19\n"
     ]
    },
    {
     "name": "stderr",
     "output_type": "stream",
     "text": [
      "epoch: 16/399: 100%|██████████| 21872/21872 [00:13<00:00, 1671.73it/s, loss=0.001269]\n",
      "epoch: 17/399:   0%|          | 0/21872 [00:00<?, ?it/s]"
     ]
    },
    {
     "name": "stdout",
     "output_type": "stream",
     "text": [
      "eval psnr: 31.24\n"
     ]
    },
    {
     "name": "stderr",
     "output_type": "stream",
     "text": [
      "epoch: 17/399: 100%|██████████| 21872/21872 [00:12<00:00, 1691.85it/s, loss=0.001264]\n",
      "epoch: 18/399:   0%|          | 0/21872 [00:00<?, ?it/s]"
     ]
    },
    {
     "name": "stdout",
     "output_type": "stream",
     "text": [
      "eval psnr: 31.34\n"
     ]
    },
    {
     "name": "stderr",
     "output_type": "stream",
     "text": [
      "epoch: 18/399: 100%|██████████| 21872/21872 [00:12<00:00, 1691.81it/s, loss=0.001262]\n",
      "epoch: 19/399:   0%|          | 0/21872 [00:00<?, ?it/s]"
     ]
    },
    {
     "name": "stdout",
     "output_type": "stream",
     "text": [
      "eval psnr: 31.25\n"
     ]
    },
    {
     "name": "stderr",
     "output_type": "stream",
     "text": [
      "epoch: 19/399: 100%|██████████| 21872/21872 [00:12<00:00, 1696.74it/s, loss=0.001258]\n",
      "epoch: 20/399:   0%|          | 0/21872 [00:00<?, ?it/s]"
     ]
    },
    {
     "name": "stdout",
     "output_type": "stream",
     "text": [
      "eval psnr: 31.24\n"
     ]
    },
    {
     "name": "stderr",
     "output_type": "stream",
     "text": [
      "epoch: 20/399: 100%|██████████| 21872/21872 [00:13<00:00, 1680.68it/s, loss=0.001253]\n",
      "epoch: 21/399:   0%|          | 0/21872 [00:00<?, ?it/s]"
     ]
    },
    {
     "name": "stdout",
     "output_type": "stream",
     "text": [
      "eval psnr: 30.97\n"
     ]
    },
    {
     "name": "stderr",
     "output_type": "stream",
     "text": [
      "epoch: 21/399: 100%|██████████| 21872/21872 [00:12<00:00, 1715.15it/s, loss=0.001251]\n",
      "epoch: 22/399:   0%|          | 0/21872 [00:00<?, ?it/s]"
     ]
    },
    {
     "name": "stdout",
     "output_type": "stream",
     "text": [
      "eval psnr: 31.03\n"
     ]
    },
    {
     "name": "stderr",
     "output_type": "stream",
     "text": [
      "epoch: 22/399: 100%|██████████| 21872/21872 [00:12<00:00, 1767.63it/s, loss=0.001247]\n",
      "epoch: 23/399:   0%|          | 0/21872 [00:00<?, ?it/s]"
     ]
    },
    {
     "name": "stdout",
     "output_type": "stream",
     "text": [
      "eval psnr: 30.99\n"
     ]
    },
    {
     "name": "stderr",
     "output_type": "stream",
     "text": [
      "epoch: 23/399: 100%|██████████| 21872/21872 [00:12<00:00, 1691.34it/s, loss=0.001244]\n",
      "epoch: 24/399:   0%|          | 0/21872 [00:00<?, ?it/s]"
     ]
    },
    {
     "name": "stdout",
     "output_type": "stream",
     "text": [
      "eval psnr: 30.88\n"
     ]
    },
    {
     "name": "stderr",
     "output_type": "stream",
     "text": [
      "epoch: 24/399: 100%|██████████| 21872/21872 [00:12<00:00, 1745.37it/s, loss=0.001242]\n",
      "epoch: 25/399:   0%|          | 0/21872 [00:00<?, ?it/s]"
     ]
    },
    {
     "name": "stdout",
     "output_type": "stream",
     "text": [
      "eval psnr: 30.84\n"
     ]
    },
    {
     "name": "stderr",
     "output_type": "stream",
     "text": [
      "epoch: 25/399: 100%|██████████| 21872/21872 [00:11<00:00, 1848.51it/s, loss=0.001239]\n",
      "epoch: 26/399:   0%|          | 0/21872 [00:00<?, ?it/s]"
     ]
    },
    {
     "name": "stdout",
     "output_type": "stream",
     "text": [
      "eval psnr: 30.86\n"
     ]
    },
    {
     "name": "stderr",
     "output_type": "stream",
     "text": [
      "epoch: 26/399: 100%|██████████| 21872/21872 [00:12<00:00, 1732.79it/s, loss=0.001236]\n",
      "epoch: 27/399:   0%|          | 0/21872 [00:00<?, ?it/s]"
     ]
    },
    {
     "name": "stdout",
     "output_type": "stream",
     "text": [
      "eval psnr: 31.00\n"
     ]
    },
    {
     "name": "stderr",
     "output_type": "stream",
     "text": [
      "epoch: 27/399: 100%|██████████| 21872/21872 [00:12<00:00, 1713.72it/s, loss=0.001234]\n",
      "epoch: 28/399:   0%|          | 0/21872 [00:00<?, ?it/s]"
     ]
    },
    {
     "name": "stdout",
     "output_type": "stream",
     "text": [
      "eval psnr: 30.92\n"
     ]
    },
    {
     "name": "stderr",
     "output_type": "stream",
     "text": [
      "epoch: 28/399: 100%|██████████| 21872/21872 [00:12<00:00, 1766.59it/s, loss=0.001232]\n",
      "epoch: 29/399:   0%|          | 0/21872 [00:00<?, ?it/s]"
     ]
    },
    {
     "name": "stdout",
     "output_type": "stream",
     "text": [
      "eval psnr: 30.74\n"
     ]
    },
    {
     "name": "stderr",
     "output_type": "stream",
     "text": [
      "epoch: 29/399: 100%|██████████| 21872/21872 [00:12<00:00, 1718.29it/s, loss=0.001229]\n",
      "epoch: 30/399:   0%|          | 0/21872 [00:00<?, ?it/s]"
     ]
    },
    {
     "name": "stdout",
     "output_type": "stream",
     "text": [
      "eval psnr: 30.94\n"
     ]
    },
    {
     "name": "stderr",
     "output_type": "stream",
     "text": [
      "epoch: 30/399: 100%|██████████| 21872/21872 [00:12<00:00, 1794.36it/s, loss=0.001227]\n",
      "epoch: 31/399:   0%|          | 0/21872 [00:00<?, ?it/s]"
     ]
    },
    {
     "name": "stdout",
     "output_type": "stream",
     "text": [
      "eval psnr: 30.47\n"
     ]
    },
    {
     "name": "stderr",
     "output_type": "stream",
     "text": [
      "epoch: 31/399: 100%|██████████| 21872/21872 [00:12<00:00, 1719.55it/s, loss=0.001224]\n",
      "epoch: 32/399:   0%|          | 0/21872 [00:00<?, ?it/s]"
     ]
    },
    {
     "name": "stdout",
     "output_type": "stream",
     "text": [
      "eval psnr: 30.80\n"
     ]
    },
    {
     "name": "stderr",
     "output_type": "stream",
     "text": [
      "epoch: 32/399: 100%|██████████| 21872/21872 [00:12<00:00, 1762.82it/s, loss=0.001223]\n",
      "epoch: 33/399:   0%|          | 0/21872 [00:00<?, ?it/s]"
     ]
    },
    {
     "name": "stdout",
     "output_type": "stream",
     "text": [
      "eval psnr: 30.55\n"
     ]
    },
    {
     "name": "stderr",
     "output_type": "stream",
     "text": [
      "epoch: 33/399: 100%|██████████| 21872/21872 [00:12<00:00, 1733.60it/s, loss=0.001221]\n",
      "epoch: 34/399:   0%|          | 0/21872 [00:00<?, ?it/s]"
     ]
    },
    {
     "name": "stdout",
     "output_type": "stream",
     "text": [
      "eval psnr: 30.74\n"
     ]
    },
    {
     "name": "stderr",
     "output_type": "stream",
     "text": [
      "epoch: 34/399: 100%|██████████| 21872/21872 [00:13<00:00, 1678.29it/s, loss=0.001219]\n",
      "epoch: 35/399:   0%|          | 0/21872 [00:00<?, ?it/s]"
     ]
    },
    {
     "name": "stdout",
     "output_type": "stream",
     "text": [
      "eval psnr: 30.69\n"
     ]
    },
    {
     "name": "stderr",
     "output_type": "stream",
     "text": [
      "epoch: 35/399: 100%|██████████| 21872/21872 [00:12<00:00, 1781.57it/s, loss=0.001217]\n",
      "epoch: 36/399:   0%|          | 0/21872 [00:00<?, ?it/s]"
     ]
    },
    {
     "name": "stdout",
     "output_type": "stream",
     "text": [
      "eval psnr: 30.70\n"
     ]
    },
    {
     "name": "stderr",
     "output_type": "stream",
     "text": [
      "epoch: 36/399: 100%|██████████| 21872/21872 [00:12<00:00, 1702.60it/s, loss=0.001216]\n",
      "epoch: 37/399:   0%|          | 0/21872 [00:00<?, ?it/s]"
     ]
    },
    {
     "name": "stdout",
     "output_type": "stream",
     "text": [
      "eval psnr: 30.65\n"
     ]
    },
    {
     "name": "stderr",
     "output_type": "stream",
     "text": [
      "epoch: 37/399: 100%|██████████| 21872/21872 [00:13<00:00, 1637.09it/s, loss=0.001214]\n",
      "epoch: 38/399:   0%|          | 0/21872 [00:00<?, ?it/s]"
     ]
    },
    {
     "name": "stdout",
     "output_type": "stream",
     "text": [
      "eval psnr: 30.62\n"
     ]
    },
    {
     "name": "stderr",
     "output_type": "stream",
     "text": [
      "epoch: 38/399: 100%|██████████| 21872/21872 [00:13<00:00, 1676.87it/s, loss=0.001213]\n",
      "epoch: 39/399:   0%|          | 0/21872 [00:00<?, ?it/s]"
     ]
    },
    {
     "name": "stdout",
     "output_type": "stream",
     "text": [
      "eval psnr: 30.73\n"
     ]
    },
    {
     "name": "stderr",
     "output_type": "stream",
     "text": [
      "epoch: 39/399: 100%|██████████| 21872/21872 [00:12<00:00, 1765.45it/s, loss=0.001211]\n",
      "epoch: 40/399:   0%|          | 0/21872 [00:00<?, ?it/s]"
     ]
    },
    {
     "name": "stdout",
     "output_type": "stream",
     "text": [
      "eval psnr: 30.70\n"
     ]
    },
    {
     "name": "stderr",
     "output_type": "stream",
     "text": [
      "epoch: 40/399: 100%|██████████| 21872/21872 [00:13<00:00, 1657.98it/s, loss=0.001209]\n",
      "epoch: 41/399:   0%|          | 0/21872 [00:00<?, ?it/s]"
     ]
    },
    {
     "name": "stdout",
     "output_type": "stream",
     "text": [
      "eval psnr: 30.66\n"
     ]
    },
    {
     "name": "stderr",
     "output_type": "stream",
     "text": [
      "epoch: 41/399: 100%|██████████| 21872/21872 [00:12<00:00, 1815.18it/s, loss=0.001207]\n",
      "epoch: 42/399:   0%|          | 0/21872 [00:00<?, ?it/s]"
     ]
    },
    {
     "name": "stdout",
     "output_type": "stream",
     "text": [
      "eval psnr: 30.41\n"
     ]
    },
    {
     "name": "stderr",
     "output_type": "stream",
     "text": [
      "epoch: 42/399: 100%|██████████| 21872/21872 [00:12<00:00, 1786.21it/s, loss=0.001206]\n",
      "epoch: 43/399:   0%|          | 0/21872 [00:00<?, ?it/s]"
     ]
    },
    {
     "name": "stdout",
     "output_type": "stream",
     "text": [
      "eval psnr: 30.67\n"
     ]
    },
    {
     "name": "stderr",
     "output_type": "stream",
     "text": [
      "epoch: 43/399: 100%|██████████| 21872/21872 [00:12<00:00, 1696.75it/s, loss=0.001206]\n",
      "epoch: 44/399:   0%|          | 0/21872 [00:00<?, ?it/s]"
     ]
    },
    {
     "name": "stdout",
     "output_type": "stream",
     "text": [
      "eval psnr: 30.51\n"
     ]
    },
    {
     "name": "stderr",
     "output_type": "stream",
     "text": [
      "epoch: 44/399: 100%|██████████| 21872/21872 [00:12<00:00, 1763.76it/s, loss=0.001204]\n",
      "epoch: 45/399:   0%|          | 0/21872 [00:00<?, ?it/s]"
     ]
    },
    {
     "name": "stdout",
     "output_type": "stream",
     "text": [
      "eval psnr: 30.50\n"
     ]
    },
    {
     "name": "stderr",
     "output_type": "stream",
     "text": [
      "epoch: 45/399: 100%|██████████| 21872/21872 [00:12<00:00, 1712.12it/s, loss=0.001203]\n",
      "epoch: 46/399:   0%|          | 0/21872 [00:00<?, ?it/s]"
     ]
    },
    {
     "name": "stdout",
     "output_type": "stream",
     "text": [
      "eval psnr: 30.42\n"
     ]
    },
    {
     "name": "stderr",
     "output_type": "stream",
     "text": [
      "epoch: 46/399: 100%|██████████| 21872/21872 [00:12<00:00, 1753.85it/s, loss=0.001202]\n",
      "epoch: 47/399:   0%|          | 0/21872 [00:00<?, ?it/s]"
     ]
    },
    {
     "name": "stdout",
     "output_type": "stream",
     "text": [
      "eval psnr: 30.33\n"
     ]
    },
    {
     "name": "stderr",
     "output_type": "stream",
     "text": [
      "epoch: 47/399: 100%|██████████| 21872/21872 [00:12<00:00, 1740.01it/s, loss=0.001200]\n",
      "epoch: 48/399:   0%|          | 0/21872 [00:00<?, ?it/s]"
     ]
    },
    {
     "name": "stdout",
     "output_type": "stream",
     "text": [
      "eval psnr: 30.74\n"
     ]
    },
    {
     "name": "stderr",
     "output_type": "stream",
     "text": [
      "epoch: 48/399: 100%|██████████| 21872/21872 [00:12<00:00, 1749.44it/s, loss=0.001200]\n",
      "epoch: 49/399:   0%|          | 0/21872 [00:00<?, ?it/s]"
     ]
    },
    {
     "name": "stdout",
     "output_type": "stream",
     "text": [
      "eval psnr: 30.45\n"
     ]
    },
    {
     "name": "stderr",
     "output_type": "stream",
     "text": [
      "epoch: 49/399: 100%|██████████| 21872/21872 [00:12<00:00, 1817.69it/s, loss=0.001199]\n",
      "epoch: 50/399:   0%|          | 0/21872 [00:00<?, ?it/s]"
     ]
    },
    {
     "name": "stdout",
     "output_type": "stream",
     "text": [
      "eval psnr: 30.55\n"
     ]
    },
    {
     "name": "stderr",
     "output_type": "stream",
     "text": [
      "epoch: 50/399: 100%|██████████| 21872/21872 [00:12<00:00, 1767.86it/s, loss=0.001198]\n",
      "epoch: 51/399:   0%|          | 0/21872 [00:00<?, ?it/s]"
     ]
    },
    {
     "name": "stdout",
     "output_type": "stream",
     "text": [
      "eval psnr: 30.50\n"
     ]
    },
    {
     "name": "stderr",
     "output_type": "stream",
     "text": [
      "epoch: 51/399: 100%|██████████| 21872/21872 [00:12<00:00, 1819.62it/s, loss=0.001196]\n",
      "epoch: 52/399:   0%|          | 0/21872 [00:00<?, ?it/s]"
     ]
    },
    {
     "name": "stdout",
     "output_type": "stream",
     "text": [
      "eval psnr: 30.58\n"
     ]
    },
    {
     "name": "stderr",
     "output_type": "stream",
     "text": [
      "epoch: 52/399: 100%|██████████| 21872/21872 [00:11<00:00, 1885.46it/s, loss=0.001195]\n",
      "epoch: 53/399:   0%|          | 0/21872 [00:00<?, ?it/s]"
     ]
    },
    {
     "name": "stdout",
     "output_type": "stream",
     "text": [
      "eval psnr: 30.43\n"
     ]
    },
    {
     "name": "stderr",
     "output_type": "stream",
     "text": [
      "epoch: 53/399: 100%|██████████| 21872/21872 [00:12<00:00, 1809.82it/s, loss=0.001194]\n",
      "epoch: 54/399:   0%|          | 0/21872 [00:00<?, ?it/s]"
     ]
    },
    {
     "name": "stdout",
     "output_type": "stream",
     "text": [
      "eval psnr: 30.32\n"
     ]
    },
    {
     "name": "stderr",
     "output_type": "stream",
     "text": [
      "epoch: 54/399: 100%|██████████| 21872/21872 [00:12<00:00, 1793.83it/s, loss=0.001194]\n",
      "epoch: 55/399:   0%|          | 0/21872 [00:00<?, ?it/s]"
     ]
    },
    {
     "name": "stdout",
     "output_type": "stream",
     "text": [
      "eval psnr: 30.56\n"
     ]
    },
    {
     "name": "stderr",
     "output_type": "stream",
     "text": [
      "epoch: 55/399: 100%|██████████| 21872/21872 [00:12<00:00, 1775.49it/s, loss=0.001193]\n",
      "epoch: 56/399:   0%|          | 0/21872 [00:00<?, ?it/s]"
     ]
    },
    {
     "name": "stdout",
     "output_type": "stream",
     "text": [
      "eval psnr: 30.50\n"
     ]
    },
    {
     "name": "stderr",
     "output_type": "stream",
     "text": [
      "epoch: 56/399: 100%|██████████| 21872/21872 [00:13<00:00, 1662.98it/s, loss=0.001192]\n",
      "epoch: 57/399:   0%|          | 0/21872 [00:00<?, ?it/s]"
     ]
    },
    {
     "name": "stdout",
     "output_type": "stream",
     "text": [
      "eval psnr: 30.22\n"
     ]
    },
    {
     "name": "stderr",
     "output_type": "stream",
     "text": [
      "epoch: 57/399: 100%|██████████| 21872/21872 [00:12<00:00, 1708.93it/s, loss=0.001191]\n",
      "epoch: 58/399:   0%|          | 0/21872 [00:00<?, ?it/s]"
     ]
    },
    {
     "name": "stdout",
     "output_type": "stream",
     "text": [
      "eval psnr: 30.50\n"
     ]
    },
    {
     "name": "stderr",
     "output_type": "stream",
     "text": [
      "epoch: 58/399: 100%|██████████| 21872/21872 [00:12<00:00, 1689.40it/s, loss=0.001191]\n",
      "epoch: 59/399:   0%|          | 0/21872 [00:00<?, ?it/s]"
     ]
    },
    {
     "name": "stdout",
     "output_type": "stream",
     "text": [
      "eval psnr: 30.30\n"
     ]
    },
    {
     "name": "stderr",
     "output_type": "stream",
     "text": [
      "epoch: 59/399: 100%|██████████| 21872/21872 [00:13<00:00, 1599.94it/s, loss=0.001188]\n",
      "epoch: 60/399:   0%|          | 0/21872 [00:00<?, ?it/s]"
     ]
    },
    {
     "name": "stdout",
     "output_type": "stream",
     "text": [
      "eval psnr: 30.18\n"
     ]
    },
    {
     "name": "stderr",
     "output_type": "stream",
     "text": [
      "epoch: 60/399: 100%|██████████| 21872/21872 [00:13<00:00, 1598.85it/s, loss=0.001189]\n",
      "epoch: 61/399:   0%|          | 0/21872 [00:00<?, ?it/s]"
     ]
    },
    {
     "name": "stdout",
     "output_type": "stream",
     "text": [
      "eval psnr: 30.26\n"
     ]
    },
    {
     "name": "stderr",
     "output_type": "stream",
     "text": [
      "epoch: 61/399: 100%|██████████| 21872/21872 [00:13<00:00, 1666.05it/s, loss=0.001188]\n",
      "epoch: 62/399:   0%|          | 0/21872 [00:00<?, ?it/s]"
     ]
    },
    {
     "name": "stdout",
     "output_type": "stream",
     "text": [
      "eval psnr: 30.61\n"
     ]
    },
    {
     "name": "stderr",
     "output_type": "stream",
     "text": [
      "epoch: 62/399: 100%|██████████| 21872/21872 [00:13<00:00, 1661.14it/s, loss=0.001187]\n",
      "epoch: 63/399:   0%|          | 0/21872 [00:00<?, ?it/s]"
     ]
    },
    {
     "name": "stdout",
     "output_type": "stream",
     "text": [
      "eval psnr: 30.05\n"
     ]
    },
    {
     "name": "stderr",
     "output_type": "stream",
     "text": [
      "epoch: 63/399: 100%|██████████| 21872/21872 [00:16<00:00, 1360.36it/s, loss=0.001186]\n",
      "epoch: 64/399:   0%|          | 0/21872 [00:00<?, ?it/s]"
     ]
    },
    {
     "name": "stdout",
     "output_type": "stream",
     "text": [
      "eval psnr: 30.19\n"
     ]
    },
    {
     "name": "stderr",
     "output_type": "stream",
     "text": [
      "epoch: 64/399: 100%|██████████| 21872/21872 [00:16<00:00, 1310.20it/s, loss=0.001185]\n",
      "epoch: 65/399:   0%|          | 0/21872 [00:00<?, ?it/s]"
     ]
    },
    {
     "name": "stdout",
     "output_type": "stream",
     "text": [
      "eval psnr: 30.47\n"
     ]
    },
    {
     "name": "stderr",
     "output_type": "stream",
     "text": [
      "epoch: 65/399: 100%|██████████| 21872/21872 [00:18<00:00, 1196.00it/s, loss=0.001185]\n",
      "epoch: 66/399:   0%|          | 0/21872 [00:00<?, ?it/s]"
     ]
    },
    {
     "name": "stdout",
     "output_type": "stream",
     "text": [
      "eval psnr: 30.36\n"
     ]
    },
    {
     "name": "stderr",
     "output_type": "stream",
     "text": [
      "epoch: 66/399: 100%|██████████| 21872/21872 [00:16<00:00, 1300.24it/s, loss=0.001184]\n",
      "epoch: 67/399:   0%|          | 0/21872 [00:00<?, ?it/s]"
     ]
    },
    {
     "name": "stdout",
     "output_type": "stream",
     "text": [
      "eval psnr: 30.43\n"
     ]
    },
    {
     "name": "stderr",
     "output_type": "stream",
     "text": [
      "epoch: 67/399: 100%|██████████| 21872/21872 [00:16<00:00, 1313.33it/s, loss=0.001183]\n",
      "epoch: 68/399:   0%|          | 0/21872 [00:00<?, ?it/s]"
     ]
    },
    {
     "name": "stdout",
     "output_type": "stream",
     "text": [
      "eval psnr: 30.55\n"
     ]
    },
    {
     "name": "stderr",
     "output_type": "stream",
     "text": [
      "epoch: 68/399: 100%|██████████| 21872/21872 [00:18<00:00, 1203.19it/s, loss=0.001182]\n",
      "epoch: 69/399:   0%|          | 0/21872 [00:00<?, ?it/s]"
     ]
    },
    {
     "name": "stdout",
     "output_type": "stream",
     "text": [
      "eval psnr: 30.30\n"
     ]
    },
    {
     "name": "stderr",
     "output_type": "stream",
     "text": [
      "epoch: 69/399: 100%|██████████| 21872/21872 [00:16<00:00, 1329.93it/s, loss=0.001182]\n",
      "epoch: 70/399:   0%|          | 0/21872 [00:00<?, ?it/s]"
     ]
    },
    {
     "name": "stdout",
     "output_type": "stream",
     "text": [
      "eval psnr: 30.27\n"
     ]
    },
    {
     "name": "stderr",
     "output_type": "stream",
     "text": [
      "epoch: 70/399: 100%|██████████| 21872/21872 [00:17<00:00, 1262.20it/s, loss=0.001180]\n",
      "epoch: 71/399:   0%|          | 0/21872 [00:00<?, ?it/s]"
     ]
    },
    {
     "name": "stdout",
     "output_type": "stream",
     "text": [
      "eval psnr: 30.32\n"
     ]
    },
    {
     "name": "stderr",
     "output_type": "stream",
     "text": [
      "epoch: 71/399: 100%|██████████| 21872/21872 [00:17<00:00, 1250.70it/s, loss=0.001181]\n",
      "epoch: 72/399:   0%|          | 0/21872 [00:00<?, ?it/s]"
     ]
    },
    {
     "name": "stdout",
     "output_type": "stream",
     "text": [
      "eval psnr: 30.17\n"
     ]
    },
    {
     "name": "stderr",
     "output_type": "stream",
     "text": [
      "epoch: 72/399: 100%|██████████| 21872/21872 [00:16<00:00, 1346.52it/s, loss=0.001180]\n",
      "epoch: 73/399:   0%|          | 0/21872 [00:00<?, ?it/s]"
     ]
    },
    {
     "name": "stdout",
     "output_type": "stream",
     "text": [
      "eval psnr: 30.43\n"
     ]
    },
    {
     "name": "stderr",
     "output_type": "stream",
     "text": [
      "epoch: 73/399: 100%|██████████| 21872/21872 [00:18<00:00, 1200.35it/s, loss=0.001179]\n",
      "epoch: 74/399:   0%|          | 0/21872 [00:00<?, ?it/s]"
     ]
    },
    {
     "name": "stdout",
     "output_type": "stream",
     "text": [
      "eval psnr: 30.16\n"
     ]
    },
    {
     "name": "stderr",
     "output_type": "stream",
     "text": [
      "epoch: 74/399: 100%|██████████| 21872/21872 [00:17<00:00, 1281.80it/s, loss=0.001178]\n",
      "epoch: 75/399:   0%|          | 0/21872 [00:00<?, ?it/s]"
     ]
    },
    {
     "name": "stdout",
     "output_type": "stream",
     "text": [
      "eval psnr: 30.43\n"
     ]
    },
    {
     "name": "stderr",
     "output_type": "stream",
     "text": [
      "epoch: 75/399: 100%|██████████| 21872/21872 [00:16<00:00, 1335.72it/s, loss=0.001176]\n",
      "epoch: 76/399:   0%|          | 0/21872 [00:00<?, ?it/s]"
     ]
    },
    {
     "name": "stdout",
     "output_type": "stream",
     "text": [
      "eval psnr: 30.42\n"
     ]
    },
    {
     "name": "stderr",
     "output_type": "stream",
     "text": [
      "epoch: 76/399: 100%|██████████| 21872/21872 [00:18<00:00, 1209.40it/s, loss=0.001177]\n",
      "epoch: 77/399:   0%|          | 0/21872 [00:00<?, ?it/s]"
     ]
    },
    {
     "name": "stdout",
     "output_type": "stream",
     "text": [
      "eval psnr: 30.42\n"
     ]
    },
    {
     "name": "stderr",
     "output_type": "stream",
     "text": [
      "epoch: 77/399: 100%|██████████| 21872/21872 [00:16<00:00, 1316.72it/s, loss=0.001176]\n",
      "epoch: 78/399:   0%|          | 0/21872 [00:00<?, ?it/s]"
     ]
    },
    {
     "name": "stdout",
     "output_type": "stream",
     "text": [
      "eval psnr: 30.31\n"
     ]
    },
    {
     "name": "stderr",
     "output_type": "stream",
     "text": [
      "epoch: 78/399: 100%|██████████| 21872/21872 [00:16<00:00, 1318.92it/s, loss=0.001176]\n",
      "epoch: 79/399:   0%|          | 0/21872 [00:00<?, ?it/s]"
     ]
    },
    {
     "name": "stdout",
     "output_type": "stream",
     "text": [
      "eval psnr: 30.19\n"
     ]
    },
    {
     "name": "stderr",
     "output_type": "stream",
     "text": [
      "epoch: 79/399: 100%|██████████| 21872/21872 [00:17<00:00, 1219.73it/s, loss=0.001175]\n",
      "epoch: 80/399:   0%|          | 0/21872 [00:00<?, ?it/s]"
     ]
    },
    {
     "name": "stdout",
     "output_type": "stream",
     "text": [
      "eval psnr: 30.25\n"
     ]
    },
    {
     "name": "stderr",
     "output_type": "stream",
     "text": [
      "epoch: 80/399: 100%|██████████| 21872/21872 [00:16<00:00, 1330.70it/s, loss=0.001175]\n",
      "epoch: 81/399:   0%|          | 0/21872 [00:00<?, ?it/s]"
     ]
    },
    {
     "name": "stdout",
     "output_type": "stream",
     "text": [
      "eval psnr: 30.31\n"
     ]
    },
    {
     "name": "stderr",
     "output_type": "stream",
     "text": [
      "epoch: 81/399: 100%|██████████| 21872/21872 [00:16<00:00, 1296.77it/s, loss=0.001174]\n",
      "epoch: 82/399:   0%|          | 0/21872 [00:00<?, ?it/s]"
     ]
    },
    {
     "name": "stdout",
     "output_type": "stream",
     "text": [
      "eval psnr: 30.27\n"
     ]
    },
    {
     "name": "stderr",
     "output_type": "stream",
     "text": [
      "epoch: 82/399: 100%|██████████| 21872/21872 [00:18<00:00, 1201.23it/s, loss=0.001174]\n",
      "epoch: 83/399:   0%|          | 0/21872 [00:00<?, ?it/s]"
     ]
    },
    {
     "name": "stdout",
     "output_type": "stream",
     "text": [
      "eval psnr: 30.37\n"
     ]
    },
    {
     "name": "stderr",
     "output_type": "stream",
     "text": [
      "epoch: 83/399: 100%|██████████| 21872/21872 [00:16<00:00, 1308.57it/s, loss=0.001173]\n",
      "epoch: 84/399:   0%|          | 0/21872 [00:00<?, ?it/s]"
     ]
    },
    {
     "name": "stdout",
     "output_type": "stream",
     "text": [
      "eval psnr: 30.58\n"
     ]
    },
    {
     "name": "stderr",
     "output_type": "stream",
     "text": [
      "epoch: 84/399: 100%|██████████| 21872/21872 [00:17<00:00, 1283.13it/s, loss=0.001172]\n",
      "epoch: 85/399:   0%|          | 0/21872 [00:00<?, ?it/s]"
     ]
    },
    {
     "name": "stdout",
     "output_type": "stream",
     "text": [
      "eval psnr: 30.24\n"
     ]
    },
    {
     "name": "stderr",
     "output_type": "stream",
     "text": [
      "epoch: 85/399: 100%|██████████| 21872/21872 [00:16<00:00, 1292.75it/s, loss=0.001171]\n",
      "epoch: 86/399:   0%|          | 0/21872 [00:00<?, ?it/s]"
     ]
    },
    {
     "name": "stdout",
     "output_type": "stream",
     "text": [
      "eval psnr: 29.92\n"
     ]
    },
    {
     "name": "stderr",
     "output_type": "stream",
     "text": [
      "epoch: 86/399: 100%|██████████| 21872/21872 [00:16<00:00, 1354.83it/s, loss=0.001171]\n",
      "epoch: 87/399:   0%|          | 0/21872 [00:00<?, ?it/s]"
     ]
    },
    {
     "name": "stdout",
     "output_type": "stream",
     "text": [
      "eval psnr: 30.35\n"
     ]
    },
    {
     "name": "stderr",
     "output_type": "stream",
     "text": [
      "epoch: 87/399: 100%|██████████| 21872/21872 [00:18<00:00, 1214.64it/s, loss=0.001171]\n",
      "epoch: 88/399:   0%|          | 0/21872 [00:00<?, ?it/s]"
     ]
    },
    {
     "name": "stdout",
     "output_type": "stream",
     "text": [
      "eval psnr: 30.20\n"
     ]
    },
    {
     "name": "stderr",
     "output_type": "stream",
     "text": [
      "epoch: 88/399: 100%|██████████| 21872/21872 [00:16<00:00, 1336.93it/s, loss=0.001170]\n",
      "epoch: 89/399:   0%|          | 0/21872 [00:00<?, ?it/s]"
     ]
    },
    {
     "name": "stdout",
     "output_type": "stream",
     "text": [
      "eval psnr: 30.35\n"
     ]
    },
    {
     "name": "stderr",
     "output_type": "stream",
     "text": [
      "epoch: 89/399: 100%|██████████| 21872/21872 [00:16<00:00, 1337.99it/s, loss=0.001170]\n",
      "epoch: 90/399:   0%|          | 0/21872 [00:00<?, ?it/s]"
     ]
    },
    {
     "name": "stdout",
     "output_type": "stream",
     "text": [
      "eval psnr: 30.21\n"
     ]
    },
    {
     "name": "stderr",
     "output_type": "stream",
     "text": [
      "epoch: 90/399: 100%|██████████| 21872/21872 [00:18<00:00, 1206.33it/s, loss=0.001169]\n",
      "epoch: 91/399:   0%|          | 0/21872 [00:00<?, ?it/s]"
     ]
    },
    {
     "name": "stdout",
     "output_type": "stream",
     "text": [
      "eval psnr: 30.16\n"
     ]
    },
    {
     "name": "stderr",
     "output_type": "stream",
     "text": [
      "epoch: 91/399: 100%|██████████| 21872/21872 [00:16<00:00, 1359.78it/s, loss=0.001169]\n",
      "epoch: 92/399:   0%|          | 0/21872 [00:00<?, ?it/s]"
     ]
    },
    {
     "name": "stdout",
     "output_type": "stream",
     "text": [
      "eval psnr: 30.17\n"
     ]
    },
    {
     "name": "stderr",
     "output_type": "stream",
     "text": [
      "epoch: 92/399: 100%|██████████| 21872/21872 [00:17<00:00, 1254.05it/s, loss=0.001168]\n",
      "epoch: 93/399:   0%|          | 0/21872 [00:00<?, ?it/s]"
     ]
    },
    {
     "name": "stdout",
     "output_type": "stream",
     "text": [
      "eval psnr: 30.42\n"
     ]
    },
    {
     "name": "stderr",
     "output_type": "stream",
     "text": [
      "epoch: 93/399: 100%|██████████| 21872/21872 [00:17<00:00, 1236.62it/s, loss=0.001167]\n",
      "epoch: 94/399:   0%|          | 0/21872 [00:00<?, ?it/s]"
     ]
    },
    {
     "name": "stdout",
     "output_type": "stream",
     "text": [
      "eval psnr: 30.12\n"
     ]
    },
    {
     "name": "stderr",
     "output_type": "stream",
     "text": [
      "epoch: 94/399: 100%|██████████| 21872/21872 [00:16<00:00, 1349.15it/s, loss=0.001168]\n",
      "epoch: 95/399:   0%|          | 0/21872 [00:00<?, ?it/s]"
     ]
    },
    {
     "name": "stdout",
     "output_type": "stream",
     "text": [
      "eval psnr: 30.18\n"
     ]
    },
    {
     "name": "stderr",
     "output_type": "stream",
     "text": [
      "epoch: 95/399: 100%|██████████| 21872/21872 [00:18<00:00, 1203.12it/s, loss=0.001167]\n",
      "epoch: 96/399:   0%|          | 0/21872 [00:00<?, ?it/s]"
     ]
    },
    {
     "name": "stdout",
     "output_type": "stream",
     "text": [
      "eval psnr: 30.28\n"
     ]
    },
    {
     "name": "stderr",
     "output_type": "stream",
     "text": [
      "epoch: 96/399: 100%|██████████| 21872/21872 [00:16<00:00, 1310.00it/s, loss=0.001166]\n",
      "epoch: 97/399:   0%|          | 0/21872 [00:00<?, ?it/s]"
     ]
    },
    {
     "name": "stdout",
     "output_type": "stream",
     "text": [
      "eval psnr: 30.38\n"
     ]
    },
    {
     "name": "stderr",
     "output_type": "stream",
     "text": [
      "epoch: 97/399: 100%|██████████| 21872/21872 [00:16<00:00, 1335.39it/s, loss=0.001166]\n",
      "epoch: 98/399:   0%|          | 0/21872 [00:00<?, ?it/s]"
     ]
    },
    {
     "name": "stdout",
     "output_type": "stream",
     "text": [
      "eval psnr: 30.03\n"
     ]
    },
    {
     "name": "stderr",
     "output_type": "stream",
     "text": [
      "epoch: 98/399: 100%|██████████| 21872/21872 [00:18<00:00, 1213.07it/s, loss=0.001165]\n",
      "epoch: 99/399:   0%|          | 0/21872 [00:00<?, ?it/s]"
     ]
    },
    {
     "name": "stdout",
     "output_type": "stream",
     "text": [
      "eval psnr: 29.76\n"
     ]
    },
    {
     "name": "stderr",
     "output_type": "stream",
     "text": [
      "epoch: 99/399: 100%|██████████| 21872/21872 [00:16<00:00, 1351.78it/s, loss=0.001165]\n",
      "epoch: 100/399:   0%|          | 0/21872 [00:00<?, ?it/s]"
     ]
    },
    {
     "name": "stdout",
     "output_type": "stream",
     "text": [
      "eval psnr: 30.30\n"
     ]
    },
    {
     "name": "stderr",
     "output_type": "stream",
     "text": [
      "epoch: 100/399: 100%|██████████| 21872/21872 [00:16<00:00, 1318.67it/s, loss=0.001164]\n",
      "epoch: 101/399:   0%|          | 0/21872 [00:00<?, ?it/s]"
     ]
    },
    {
     "name": "stdout",
     "output_type": "stream",
     "text": [
      "eval psnr: 30.16\n"
     ]
    },
    {
     "name": "stderr",
     "output_type": "stream",
     "text": [
      "epoch: 101/399: 100%|██████████| 21872/21872 [00:18<00:00, 1209.07it/s, loss=0.001164]\n",
      "epoch: 102/399:   0%|          | 0/21872 [00:00<?, ?it/s]"
     ]
    },
    {
     "name": "stdout",
     "output_type": "stream",
     "text": [
      "eval psnr: 30.11\n"
     ]
    },
    {
     "name": "stderr",
     "output_type": "stream",
     "text": [
      "epoch: 102/399: 100%|██████████| 21872/21872 [00:16<00:00, 1337.05it/s, loss=0.001164]\n",
      "epoch: 103/399:   0%|          | 0/21872 [00:00<?, ?it/s]"
     ]
    },
    {
     "name": "stdout",
     "output_type": "stream",
     "text": [
      "eval psnr: 30.26\n"
     ]
    },
    {
     "name": "stderr",
     "output_type": "stream",
     "text": [
      "epoch: 103/399: 100%|██████████| 21872/21872 [00:17<00:00, 1249.67it/s, loss=0.001163]\n",
      "epoch: 104/399:   0%|          | 0/21872 [00:00<?, ?it/s]"
     ]
    },
    {
     "name": "stdout",
     "output_type": "stream",
     "text": [
      "eval psnr: 30.40\n"
     ]
    },
    {
     "name": "stderr",
     "output_type": "stream",
     "text": [
      "epoch: 104/399: 100%|██████████| 21872/21872 [00:17<00:00, 1256.85it/s, loss=0.001163]\n",
      "epoch: 105/399:   0%|          | 0/21872 [00:00<?, ?it/s]"
     ]
    },
    {
     "name": "stdout",
     "output_type": "stream",
     "text": [
      "eval psnr: 30.25\n"
     ]
    },
    {
     "name": "stderr",
     "output_type": "stream",
     "text": [
      "epoch: 105/399: 100%|██████████| 21872/21872 [00:16<00:00, 1309.44it/s, loss=0.001162]\n",
      "epoch: 106/399:   0%|          | 0/21872 [00:00<?, ?it/s]"
     ]
    },
    {
     "name": "stdout",
     "output_type": "stream",
     "text": [
      "eval psnr: 30.26\n"
     ]
    },
    {
     "name": "stderr",
     "output_type": "stream",
     "text": [
      "epoch: 106/399: 100%|██████████| 21872/21872 [00:18<00:00, 1213.70it/s, loss=0.001163]\n",
      "epoch: 107/399:   0%|          | 0/21872 [00:00<?, ?it/s]"
     ]
    },
    {
     "name": "stdout",
     "output_type": "stream",
     "text": [
      "eval psnr: 30.14\n"
     ]
    },
    {
     "name": "stderr",
     "output_type": "stream",
     "text": [
      "epoch: 107/399: 100%|██████████| 21872/21872 [00:16<00:00, 1298.80it/s, loss=0.001161]\n",
      "epoch: 108/399:   0%|          | 0/21872 [00:00<?, ?it/s]"
     ]
    },
    {
     "name": "stdout",
     "output_type": "stream",
     "text": [
      "eval psnr: 30.35\n"
     ]
    },
    {
     "name": "stderr",
     "output_type": "stream",
     "text": [
      "epoch: 108/399: 100%|██████████| 21872/21872 [00:16<00:00, 1311.46it/s, loss=0.001162]\n",
      "epoch: 109/399:   0%|          | 0/21872 [00:00<?, ?it/s]"
     ]
    },
    {
     "name": "stdout",
     "output_type": "stream",
     "text": [
      "eval psnr: 30.14\n"
     ]
    },
    {
     "name": "stderr",
     "output_type": "stream",
     "text": [
      "epoch: 109/399: 100%|██████████| 21872/21872 [00:18<00:00, 1172.74it/s, loss=0.001161]\n",
      "epoch: 110/399:   0%|          | 0/21872 [00:00<?, ?it/s]"
     ]
    },
    {
     "name": "stdout",
     "output_type": "stream",
     "text": [
      "eval psnr: 30.34\n"
     ]
    },
    {
     "name": "stderr",
     "output_type": "stream",
     "text": [
      "epoch: 110/399: 100%|██████████| 21872/21872 [00:17<00:00, 1280.95it/s, loss=0.001161]\n",
      "epoch: 111/399:   0%|          | 0/21872 [00:00<?, ?it/s]"
     ]
    },
    {
     "name": "stdout",
     "output_type": "stream",
     "text": [
      "eval psnr: 30.09\n"
     ]
    },
    {
     "name": "stderr",
     "output_type": "stream",
     "text": [
      "epoch: 111/399: 100%|██████████| 21872/21872 [00:16<00:00, 1295.66it/s, loss=0.001160]\n",
      "epoch: 112/399:   0%|          | 0/21872 [00:00<?, ?it/s]"
     ]
    },
    {
     "name": "stdout",
     "output_type": "stream",
     "text": [
      "eval psnr: 29.91\n"
     ]
    },
    {
     "name": "stderr",
     "output_type": "stream",
     "text": [
      "epoch: 112/399: 100%|██████████| 21872/21872 [00:18<00:00, 1205.52it/s, loss=0.001160]\n",
      "epoch: 113/399:   0%|          | 0/21872 [00:00<?, ?it/s]"
     ]
    },
    {
     "name": "stdout",
     "output_type": "stream",
     "text": [
      "eval psnr: 30.14\n"
     ]
    },
    {
     "name": "stderr",
     "output_type": "stream",
     "text": [
      "epoch: 113/399: 100%|██████████| 21872/21872 [00:16<00:00, 1358.76it/s, loss=0.001159]\n",
      "epoch: 114/399:   0%|          | 0/21872 [00:00<?, ?it/s]"
     ]
    },
    {
     "name": "stdout",
     "output_type": "stream",
     "text": [
      "eval psnr: 30.19\n"
     ]
    },
    {
     "name": "stderr",
     "output_type": "stream",
     "text": [
      "epoch: 114/399: 100%|██████████| 21872/21872 [00:16<00:00, 1307.65it/s, loss=0.001159]\n",
      "epoch: 115/399:   0%|          | 0/21872 [00:00<?, ?it/s]"
     ]
    },
    {
     "name": "stdout",
     "output_type": "stream",
     "text": [
      "eval psnr: 30.18\n"
     ]
    },
    {
     "name": "stderr",
     "output_type": "stream",
     "text": [
      "epoch: 115/399: 100%|██████████| 21872/21872 [00:12<00:00, 1682.56it/s, loss=0.001159]\n",
      "epoch: 116/399:   0%|          | 0/21872 [00:00<?, ?it/s]"
     ]
    },
    {
     "name": "stdout",
     "output_type": "stream",
     "text": [
      "eval psnr: 30.04\n"
     ]
    },
    {
     "name": "stderr",
     "output_type": "stream",
     "text": [
      "epoch: 116/399: 100%|██████████| 21872/21872 [00:11<00:00, 1826.92it/s, loss=0.001158]\n",
      "epoch: 117/399:   0%|          | 0/21872 [00:00<?, ?it/s]"
     ]
    },
    {
     "name": "stdout",
     "output_type": "stream",
     "text": [
      "eval psnr: 30.26\n"
     ]
    },
    {
     "name": "stderr",
     "output_type": "stream",
     "text": [
      "epoch: 117/399: 100%|██████████| 21872/21872 [00:11<00:00, 1857.08it/s, loss=0.001158]\n",
      "epoch: 118/399:   0%|          | 0/21872 [00:00<?, ?it/s]"
     ]
    },
    {
     "name": "stdout",
     "output_type": "stream",
     "text": [
      "eval psnr: 30.20\n"
     ]
    },
    {
     "name": "stderr",
     "output_type": "stream",
     "text": [
      "epoch: 118/399: 100%|██████████| 21872/21872 [00:11<00:00, 1861.11it/s, loss=0.001157]\n",
      "epoch: 119/399:   0%|          | 0/21872 [00:00<?, ?it/s]"
     ]
    },
    {
     "name": "stdout",
     "output_type": "stream",
     "text": [
      "eval psnr: 30.18\n"
     ]
    },
    {
     "name": "stderr",
     "output_type": "stream",
     "text": [
      "epoch: 119/399: 100%|██████████| 21872/21872 [00:12<00:00, 1819.25it/s, loss=0.001157]\n",
      "epoch: 120/399:   0%|          | 0/21872 [00:00<?, ?it/s]"
     ]
    },
    {
     "name": "stdout",
     "output_type": "stream",
     "text": [
      "eval psnr: 30.13\n"
     ]
    },
    {
     "name": "stderr",
     "output_type": "stream",
     "text": [
      "epoch: 120/399: 100%|██████████| 21872/21872 [00:11<00:00, 1863.18it/s, loss=0.001156]\n",
      "epoch: 121/399:   0%|          | 0/21872 [00:00<?, ?it/s]"
     ]
    },
    {
     "name": "stdout",
     "output_type": "stream",
     "text": [
      "eval psnr: 29.95\n"
     ]
    },
    {
     "name": "stderr",
     "output_type": "stream",
     "text": [
      "epoch: 121/399: 100%|██████████| 21872/21872 [00:11<00:00, 1862.28it/s, loss=0.001156]\n",
      "epoch: 122/399:   0%|          | 0/21872 [00:00<?, ?it/s]"
     ]
    },
    {
     "name": "stdout",
     "output_type": "stream",
     "text": [
      "eval psnr: 30.24\n"
     ]
    },
    {
     "name": "stderr",
     "output_type": "stream",
     "text": [
      "epoch: 122/399: 100%|██████████| 21872/21872 [00:11<00:00, 1903.09it/s, loss=0.001156]\n",
      "epoch: 123/399:   0%|          | 0/21872 [00:00<?, ?it/s]"
     ]
    },
    {
     "name": "stdout",
     "output_type": "stream",
     "text": [
      "eval psnr: 30.21\n"
     ]
    },
    {
     "name": "stderr",
     "output_type": "stream",
     "text": [
      "epoch: 123/399: 100%|██████████| 21872/21872 [00:12<00:00, 1782.19it/s, loss=0.001156]\n",
      "epoch: 124/399:   0%|          | 0/21872 [00:00<?, ?it/s]"
     ]
    },
    {
     "name": "stdout",
     "output_type": "stream",
     "text": [
      "eval psnr: 30.17\n"
     ]
    },
    {
     "name": "stderr",
     "output_type": "stream",
     "text": [
      "epoch: 124/399: 100%|██████████| 21872/21872 [00:12<00:00, 1735.49it/s, loss=0.001155]\n",
      "epoch: 125/399:   0%|          | 0/21872 [00:00<?, ?it/s]"
     ]
    },
    {
     "name": "stdout",
     "output_type": "stream",
     "text": [
      "eval psnr: 30.03\n"
     ]
    },
    {
     "name": "stderr",
     "output_type": "stream",
     "text": [
      "epoch: 125/399: 100%|██████████| 21872/21872 [00:12<00:00, 1789.24it/s, loss=0.001155]\n",
      "epoch: 126/399:   0%|          | 0/21872 [00:00<?, ?it/s]"
     ]
    },
    {
     "name": "stdout",
     "output_type": "stream",
     "text": [
      "eval psnr: 30.30\n"
     ]
    },
    {
     "name": "stderr",
     "output_type": "stream",
     "text": [
      "epoch: 126/399: 100%|██████████| 21872/21872 [00:12<00:00, 1751.30it/s, loss=0.001154]\n",
      "epoch: 127/399:   0%|          | 0/21872 [00:00<?, ?it/s]"
     ]
    },
    {
     "name": "stdout",
     "output_type": "stream",
     "text": [
      "eval psnr: 30.05\n"
     ]
    },
    {
     "name": "stderr",
     "output_type": "stream",
     "text": [
      "epoch: 127/399: 100%|██████████| 21872/21872 [00:12<00:00, 1725.71it/s, loss=0.001154]\n",
      "epoch: 128/399:   0%|          | 0/21872 [00:00<?, ?it/s]"
     ]
    },
    {
     "name": "stdout",
     "output_type": "stream",
     "text": [
      "eval psnr: 30.29\n"
     ]
    },
    {
     "name": "stderr",
     "output_type": "stream",
     "text": [
      "epoch: 128/399: 100%|██████████| 21872/21872 [00:12<00:00, 1705.14it/s, loss=0.001153]\n",
      "epoch: 129/399:   0%|          | 0/21872 [00:00<?, ?it/s]"
     ]
    },
    {
     "name": "stdout",
     "output_type": "stream",
     "text": [
      "eval psnr: 30.34\n"
     ]
    },
    {
     "name": "stderr",
     "output_type": "stream",
     "text": [
      "epoch: 129/399: 100%|██████████| 21872/21872 [00:12<00:00, 1686.25it/s, loss=0.001154]\n",
      "epoch: 130/399:   0%|          | 0/21872 [00:00<?, ?it/s]"
     ]
    },
    {
     "name": "stdout",
     "output_type": "stream",
     "text": [
      "eval psnr: 30.14\n"
     ]
    },
    {
     "name": "stderr",
     "output_type": "stream",
     "text": [
      "epoch: 130/399: 100%|██████████| 21872/21872 [00:13<00:00, 1666.71it/s, loss=0.001154]\n",
      "epoch: 131/399:   0%|          | 0/21872 [00:00<?, ?it/s]"
     ]
    },
    {
     "name": "stdout",
     "output_type": "stream",
     "text": [
      "eval psnr: 30.28\n"
     ]
    },
    {
     "name": "stderr",
     "output_type": "stream",
     "text": [
      "epoch: 131/399: 100%|██████████| 21872/21872 [00:13<00:00, 1658.27it/s, loss=0.001153]\n",
      "epoch: 132/399:   0%|          | 0/21872 [00:00<?, ?it/s]"
     ]
    },
    {
     "name": "stdout",
     "output_type": "stream",
     "text": [
      "eval psnr: 29.99\n"
     ]
    },
    {
     "name": "stderr",
     "output_type": "stream",
     "text": [
      "epoch: 132/399: 100%|██████████| 21872/21872 [00:12<00:00, 1774.43it/s, loss=0.001153]\n",
      "epoch: 133/399:   0%|          | 0/21872 [00:00<?, ?it/s]"
     ]
    },
    {
     "name": "stdout",
     "output_type": "stream",
     "text": [
      "eval psnr: 30.17\n"
     ]
    },
    {
     "name": "stderr",
     "output_type": "stream",
     "text": [
      "epoch: 133/399: 100%|██████████| 21872/21872 [00:11<00:00, 1899.80it/s, loss=0.001153]\n",
      "epoch: 134/399:   0%|          | 0/21872 [00:00<?, ?it/s]"
     ]
    },
    {
     "name": "stdout",
     "output_type": "stream",
     "text": [
      "eval psnr: 30.24\n"
     ]
    },
    {
     "name": "stderr",
     "output_type": "stream",
     "text": [
      "epoch: 134/399: 100%|██████████| 21872/21872 [00:12<00:00, 1784.43it/s, loss=0.001152]\n",
      "epoch: 135/399:   0%|          | 0/21872 [00:00<?, ?it/s]"
     ]
    },
    {
     "name": "stdout",
     "output_type": "stream",
     "text": [
      "eval psnr: 29.87\n"
     ]
    },
    {
     "name": "stderr",
     "output_type": "stream",
     "text": [
      "epoch: 135/399: 100%|██████████| 21872/21872 [00:13<00:00, 1680.29it/s, loss=0.001151]\n",
      "epoch: 136/399:   0%|          | 0/21872 [00:00<?, ?it/s]"
     ]
    },
    {
     "name": "stdout",
     "output_type": "stream",
     "text": [
      "eval psnr: 30.12\n"
     ]
    },
    {
     "name": "stderr",
     "output_type": "stream",
     "text": [
      "epoch: 136/399: 100%|██████████| 21872/21872 [00:13<00:00, 1665.41it/s, loss=0.001152]\n",
      "epoch: 137/399:   0%|          | 0/21872 [00:00<?, ?it/s]"
     ]
    },
    {
     "name": "stdout",
     "output_type": "stream",
     "text": [
      "eval psnr: 30.08\n"
     ]
    },
    {
     "name": "stderr",
     "output_type": "stream",
     "text": [
      "epoch: 137/399: 100%|██████████| 21872/21872 [00:12<00:00, 1693.09it/s, loss=0.001151]\n",
      "epoch: 138/399:   0%|          | 0/21872 [00:00<?, ?it/s]"
     ]
    },
    {
     "name": "stdout",
     "output_type": "stream",
     "text": [
      "eval psnr: 30.03\n"
     ]
    },
    {
     "name": "stderr",
     "output_type": "stream",
     "text": [
      "epoch: 138/399: 100%|██████████| 21872/21872 [00:13<00:00, 1681.29it/s, loss=0.001151]\n",
      "epoch: 139/399:   0%|          | 0/21872 [00:00<?, ?it/s]"
     ]
    },
    {
     "name": "stdout",
     "output_type": "stream",
     "text": [
      "eval psnr: 29.87\n"
     ]
    },
    {
     "name": "stderr",
     "output_type": "stream",
     "text": [
      "epoch: 139/399: 100%|██████████| 21872/21872 [00:13<00:00, 1663.91it/s, loss=0.001151]\n",
      "epoch: 140/399:   0%|          | 0/21872 [00:00<?, ?it/s]"
     ]
    },
    {
     "name": "stdout",
     "output_type": "stream",
     "text": [
      "eval psnr: 30.02\n"
     ]
    },
    {
     "name": "stderr",
     "output_type": "stream",
     "text": [
      "epoch: 140/399: 100%|██████████| 21872/21872 [00:12<00:00, 1715.90it/s, loss=0.001150]\n",
      "epoch: 141/399:   0%|          | 0/21872 [00:00<?, ?it/s]"
     ]
    },
    {
     "name": "stdout",
     "output_type": "stream",
     "text": [
      "eval psnr: 30.19\n"
     ]
    },
    {
     "name": "stderr",
     "output_type": "stream",
     "text": [
      "epoch: 141/399: 100%|██████████| 21872/21872 [00:19<00:00, 1145.54it/s, loss=0.001150]\n",
      "epoch: 142/399:   0%|          | 0/21872 [00:00<?, ?it/s]"
     ]
    },
    {
     "name": "stdout",
     "output_type": "stream",
     "text": [
      "eval psnr: 29.97\n"
     ]
    },
    {
     "name": "stderr",
     "output_type": "stream",
     "text": [
      "epoch: 142/399: 100%|██████████| 21872/21872 [00:18<00:00, 1215.04it/s, loss=0.001149]\n",
      "epoch: 143/399:   0%|          | 0/21872 [00:00<?, ?it/s]"
     ]
    },
    {
     "name": "stdout",
     "output_type": "stream",
     "text": [
      "eval psnr: 30.06\n"
     ]
    },
    {
     "name": "stderr",
     "output_type": "stream",
     "text": [
      "epoch: 143/399: 100%|██████████| 21872/21872 [00:18<00:00, 1188.86it/s, loss=0.001149]\n",
      "epoch: 144/399:   0%|          | 0/21872 [00:00<?, ?it/s]"
     ]
    },
    {
     "name": "stdout",
     "output_type": "stream",
     "text": [
      "eval psnr: 30.10\n"
     ]
    },
    {
     "name": "stderr",
     "output_type": "stream",
     "text": [
      "epoch: 144/399: 100%|██████████| 21872/21872 [00:19<00:00, 1140.62it/s, loss=0.001149]\n",
      "epoch: 145/399:   0%|          | 0/21872 [00:00<?, ?it/s]"
     ]
    },
    {
     "name": "stdout",
     "output_type": "stream",
     "text": [
      "eval psnr: 30.11\n"
     ]
    },
    {
     "name": "stderr",
     "output_type": "stream",
     "text": [
      "epoch: 145/399: 100%|██████████| 21872/21872 [00:17<00:00, 1219.39it/s, loss=0.001149]\n",
      "epoch: 146/399:   0%|          | 0/21872 [00:00<?, ?it/s]"
     ]
    },
    {
     "name": "stdout",
     "output_type": "stream",
     "text": [
      "eval psnr: 30.18\n"
     ]
    },
    {
     "name": "stderr",
     "output_type": "stream",
     "text": [
      "epoch: 146/399: 100%|██████████| 21872/21872 [00:18<00:00, 1210.84it/s, loss=0.001149]\n",
      "epoch: 147/399:   0%|          | 0/21872 [00:00<?, ?it/s]"
     ]
    },
    {
     "name": "stdout",
     "output_type": "stream",
     "text": [
      "eval psnr: 30.07\n"
     ]
    },
    {
     "name": "stderr",
     "output_type": "stream",
     "text": [
      "epoch: 147/399: 100%|██████████| 21872/21872 [00:18<00:00, 1151.29it/s, loss=0.001149]\n",
      "epoch: 148/399:   0%|          | 0/21872 [00:00<?, ?it/s]"
     ]
    },
    {
     "name": "stdout",
     "output_type": "stream",
     "text": [
      "eval psnr: 29.91\n"
     ]
    },
    {
     "name": "stderr",
     "output_type": "stream",
     "text": [
      "epoch: 148/399: 100%|██████████| 21872/21872 [00:18<00:00, 1211.24it/s, loss=0.001148]\n",
      "epoch: 149/399:   0%|          | 0/21872 [00:00<?, ?it/s]"
     ]
    },
    {
     "name": "stdout",
     "output_type": "stream",
     "text": [
      "eval psnr: 30.03\n"
     ]
    },
    {
     "name": "stderr",
     "output_type": "stream",
     "text": [
      "epoch: 149/399: 100%|██████████| 21872/21872 [00:18<00:00, 1195.18it/s, loss=0.001148]\n",
      "epoch: 150/399:   0%|          | 0/21872 [00:00<?, ?it/s]"
     ]
    },
    {
     "name": "stdout",
     "output_type": "stream",
     "text": [
      "eval psnr: 30.17\n"
     ]
    },
    {
     "name": "stderr",
     "output_type": "stream",
     "text": [
      "epoch: 150/399: 100%|██████████| 21872/21872 [00:19<00:00, 1118.22it/s, loss=0.001148]\n",
      "epoch: 151/399:   0%|          | 0/21872 [00:00<?, ?it/s]"
     ]
    },
    {
     "name": "stdout",
     "output_type": "stream",
     "text": [
      "eval psnr: 29.94\n"
     ]
    },
    {
     "name": "stderr",
     "output_type": "stream",
     "text": [
      "epoch: 151/399: 100%|██████████| 21872/21872 [00:18<00:00, 1176.11it/s, loss=0.001147]\n",
      "epoch: 152/399:   0%|          | 0/21872 [00:00<?, ?it/s]"
     ]
    },
    {
     "name": "stdout",
     "output_type": "stream",
     "text": [
      "eval psnr: 29.89\n"
     ]
    },
    {
     "name": "stderr",
     "output_type": "stream",
     "text": [
      "epoch: 152/399: 100%|██████████| 21872/21872 [00:18<00:00, 1188.46it/s, loss=0.001147]\n",
      "epoch: 153/399:   0%|          | 0/21872 [00:00<?, ?it/s]"
     ]
    },
    {
     "name": "stdout",
     "output_type": "stream",
     "text": [
      "eval psnr: 29.98\n"
     ]
    },
    {
     "name": "stderr",
     "output_type": "stream",
     "text": [
      "epoch: 153/399: 100%|██████████| 21872/21872 [00:18<00:00, 1174.17it/s, loss=0.001146]\n",
      "epoch: 154/399:   0%|          | 0/21872 [00:00<?, ?it/s]"
     ]
    },
    {
     "name": "stdout",
     "output_type": "stream",
     "text": [
      "eval psnr: 30.02\n"
     ]
    },
    {
     "name": "stderr",
     "output_type": "stream",
     "text": [
      "epoch: 154/399: 100%|██████████| 21872/21872 [00:19<00:00, 1145.36it/s, loss=0.001147]\n",
      "epoch: 155/399:   0%|          | 0/21872 [00:00<?, ?it/s]"
     ]
    },
    {
     "name": "stdout",
     "output_type": "stream",
     "text": [
      "eval psnr: 30.02\n"
     ]
    },
    {
     "name": "stderr",
     "output_type": "stream",
     "text": [
      "epoch: 155/399: 100%|██████████| 21872/21872 [00:18<00:00, 1204.16it/s, loss=0.001146]\n",
      "epoch: 156/399:   0%|          | 0/21872 [00:00<?, ?it/s]"
     ]
    },
    {
     "name": "stdout",
     "output_type": "stream",
     "text": [
      "eval psnr: 30.10\n"
     ]
    },
    {
     "name": "stderr",
     "output_type": "stream",
     "text": [
      "epoch: 156/399: 100%|██████████| 21872/21872 [00:18<00:00, 1214.03it/s, loss=0.001147]\n",
      "epoch: 157/399:   0%|          | 0/21872 [00:00<?, ?it/s]"
     ]
    },
    {
     "name": "stdout",
     "output_type": "stream",
     "text": [
      "eval psnr: 30.00\n"
     ]
    },
    {
     "name": "stderr",
     "output_type": "stream",
     "text": [
      "epoch: 157/399: 100%|██████████| 21872/21872 [00:19<00:00, 1148.83it/s, loss=0.001146]\n",
      "epoch: 158/399:   0%|          | 0/21872 [00:00<?, ?it/s]"
     ]
    },
    {
     "name": "stdout",
     "output_type": "stream",
     "text": [
      "eval psnr: 30.25\n"
     ]
    },
    {
     "name": "stderr",
     "output_type": "stream",
     "text": [
      "epoch: 158/399: 100%|██████████| 21872/21872 [00:17<00:00, 1222.07it/s, loss=0.001146]\n",
      "epoch: 159/399:   0%|          | 0/21872 [00:00<?, ?it/s]"
     ]
    },
    {
     "name": "stdout",
     "output_type": "stream",
     "text": [
      "eval psnr: 30.02\n"
     ]
    },
    {
     "name": "stderr",
     "output_type": "stream",
     "text": [
      "epoch: 159/399: 100%|██████████| 21872/21872 [00:18<00:00, 1187.39it/s, loss=0.001146]\n",
      "epoch: 160/399:   0%|          | 0/21872 [00:00<?, ?it/s]"
     ]
    },
    {
     "name": "stdout",
     "output_type": "stream",
     "text": [
      "eval psnr: 30.37\n"
     ]
    },
    {
     "name": "stderr",
     "output_type": "stream",
     "text": [
      "epoch: 160/399: 100%|██████████| 21872/21872 [00:19<00:00, 1124.55it/s, loss=0.001145]\n",
      "epoch: 161/399:   0%|          | 0/21872 [00:00<?, ?it/s]"
     ]
    },
    {
     "name": "stdout",
     "output_type": "stream",
     "text": [
      "eval psnr: 29.91\n"
     ]
    },
    {
     "name": "stderr",
     "output_type": "stream",
     "text": [
      "epoch: 161/399: 100%|██████████| 21872/21872 [00:18<00:00, 1187.65it/s, loss=0.001145]\n",
      "epoch: 162/399:   0%|          | 0/21872 [00:00<?, ?it/s]"
     ]
    },
    {
     "name": "stdout",
     "output_type": "stream",
     "text": [
      "eval psnr: 30.07\n"
     ]
    },
    {
     "name": "stderr",
     "output_type": "stream",
     "text": [
      "epoch: 162/399: 100%|██████████| 21872/21872 [00:17<00:00, 1219.61it/s, loss=0.001145]\n",
      "epoch: 163/399:   0%|          | 0/21872 [00:00<?, ?it/s]"
     ]
    },
    {
     "name": "stdout",
     "output_type": "stream",
     "text": [
      "eval psnr: 30.09\n"
     ]
    },
    {
     "name": "stderr",
     "output_type": "stream",
     "text": [
      "epoch: 163/399: 100%|██████████| 21872/21872 [00:19<00:00, 1112.98it/s, loss=0.001145]\n",
      "epoch: 164/399:   0%|          | 0/21872 [00:00<?, ?it/s]"
     ]
    },
    {
     "name": "stdout",
     "output_type": "stream",
     "text": [
      "eval psnr: 29.97\n"
     ]
    },
    {
     "name": "stderr",
     "output_type": "stream",
     "text": [
      "epoch: 164/399: 100%|██████████| 21872/21872 [00:18<00:00, 1190.21it/s, loss=0.001145]\n",
      "epoch: 165/399:   0%|          | 0/21872 [00:00<?, ?it/s]"
     ]
    },
    {
     "name": "stdout",
     "output_type": "stream",
     "text": [
      "eval psnr: 30.16\n"
     ]
    },
    {
     "name": "stderr",
     "output_type": "stream",
     "text": [
      "epoch: 165/399: 100%|██████████| 21872/21872 [00:17<00:00, 1233.60it/s, loss=0.001144]\n",
      "epoch: 166/399:   0%|          | 0/21872 [00:00<?, ?it/s]"
     ]
    },
    {
     "name": "stdout",
     "output_type": "stream",
     "text": [
      "eval psnr: 30.01\n"
     ]
    },
    {
     "name": "stderr",
     "output_type": "stream",
     "text": [
      "epoch: 166/399: 100%|██████████| 21872/21872 [00:19<00:00, 1115.01it/s, loss=0.001144]\n",
      "epoch: 167/399:   0%|          | 0/21872 [00:00<?, ?it/s]"
     ]
    },
    {
     "name": "stdout",
     "output_type": "stream",
     "text": [
      "eval psnr: 29.96\n"
     ]
    },
    {
     "name": "stderr",
     "output_type": "stream",
     "text": [
      "epoch: 167/399: 100%|██████████| 21872/21872 [00:18<00:00, 1195.95it/s, loss=0.001144]\n",
      "epoch: 168/399:   0%|          | 0/21872 [00:00<?, ?it/s]"
     ]
    },
    {
     "name": "stdout",
     "output_type": "stream",
     "text": [
      "eval psnr: 29.98\n"
     ]
    },
    {
     "name": "stderr",
     "output_type": "stream",
     "text": [
      "epoch: 168/399: 100%|██████████| 21872/21872 [00:18<00:00, 1183.31it/s, loss=0.001144]\n",
      "epoch: 169/399:   0%|          | 0/21872 [00:00<?, ?it/s]"
     ]
    },
    {
     "name": "stdout",
     "output_type": "stream",
     "text": [
      "eval psnr: 30.11\n"
     ]
    },
    {
     "name": "stderr",
     "output_type": "stream",
     "text": [
      "epoch: 169/399: 100%|██████████| 21872/21872 [00:18<00:00, 1159.17it/s, loss=0.001143]\n",
      "epoch: 170/399:   0%|          | 0/21872 [00:00<?, ?it/s]"
     ]
    },
    {
     "name": "stdout",
     "output_type": "stream",
     "text": [
      "eval psnr: 30.13\n"
     ]
    },
    {
     "name": "stderr",
     "output_type": "stream",
     "text": [
      "epoch: 170/399: 100%|██████████| 21872/21872 [00:18<00:00, 1154.22it/s, loss=0.001143]\n",
      "epoch: 171/399:   0%|          | 0/21872 [00:00<?, ?it/s]"
     ]
    },
    {
     "name": "stdout",
     "output_type": "stream",
     "text": [
      "eval psnr: 29.90\n"
     ]
    },
    {
     "name": "stderr",
     "output_type": "stream",
     "text": [
      "epoch: 171/399: 100%|██████████| 21872/21872 [00:18<00:00, 1197.79it/s, loss=0.001143]\n",
      "epoch: 172/399:   0%|          | 0/21872 [00:00<?, ?it/s]"
     ]
    },
    {
     "name": "stdout",
     "output_type": "stream",
     "text": [
      "eval psnr: 29.92\n"
     ]
    },
    {
     "name": "stderr",
     "output_type": "stream",
     "text": [
      "epoch: 172/399: 100%|██████████| 21872/21872 [00:18<00:00, 1209.79it/s, loss=0.001143]\n",
      "epoch: 173/399:   0%|          | 0/21872 [00:00<?, ?it/s]"
     ]
    },
    {
     "name": "stdout",
     "output_type": "stream",
     "text": [
      "eval psnr: 30.14\n"
     ]
    },
    {
     "name": "stderr",
     "output_type": "stream",
     "text": [
      "epoch: 173/399: 100%|██████████| 21872/21872 [00:19<00:00, 1144.25it/s, loss=0.001142]\n",
      "epoch: 174/399:   0%|          | 0/21872 [00:00<?, ?it/s]"
     ]
    },
    {
     "name": "stdout",
     "output_type": "stream",
     "text": [
      "eval psnr: 30.00\n"
     ]
    },
    {
     "name": "stderr",
     "output_type": "stream",
     "text": [
      "epoch: 174/399: 100%|██████████| 21872/21872 [00:18<00:00, 1189.73it/s, loss=0.001142]\n",
      "epoch: 175/399:   0%|          | 0/21872 [00:00<?, ?it/s]"
     ]
    },
    {
     "name": "stdout",
     "output_type": "stream",
     "text": [
      "eval psnr: 30.18\n"
     ]
    },
    {
     "name": "stderr",
     "output_type": "stream",
     "text": [
      "epoch: 175/399: 100%|██████████| 21872/21872 [00:18<00:00, 1211.51it/s, loss=0.001142]\n",
      "epoch: 176/399:   0%|          | 0/21872 [00:00<?, ?it/s]"
     ]
    },
    {
     "name": "stdout",
     "output_type": "stream",
     "text": [
      "eval psnr: 29.97\n"
     ]
    },
    {
     "name": "stderr",
     "output_type": "stream",
     "text": [
      "epoch: 176/399: 100%|██████████| 21872/21872 [00:19<00:00, 1102.46it/s, loss=0.001141]\n",
      "epoch: 177/399:   0%|          | 0/21872 [00:00<?, ?it/s]"
     ]
    },
    {
     "name": "stdout",
     "output_type": "stream",
     "text": [
      "eval psnr: 30.17\n"
     ]
    },
    {
     "name": "stderr",
     "output_type": "stream",
     "text": [
      "epoch: 177/399: 100%|██████████| 21872/21872 [00:18<00:00, 1161.53it/s, loss=0.001141]\n",
      "epoch: 178/399:   0%|          | 0/21872 [00:00<?, ?it/s]"
     ]
    },
    {
     "name": "stdout",
     "output_type": "stream",
     "text": [
      "eval psnr: 29.79\n"
     ]
    },
    {
     "name": "stderr",
     "output_type": "stream",
     "text": [
      "epoch: 178/399: 100%|██████████| 21872/21872 [00:19<00:00, 1146.14it/s, loss=0.001141]\n",
      "epoch: 179/399:   0%|          | 0/21872 [00:00<?, ?it/s]"
     ]
    },
    {
     "name": "stdout",
     "output_type": "stream",
     "text": [
      "eval psnr: 29.93\n"
     ]
    },
    {
     "name": "stderr",
     "output_type": "stream",
     "text": [
      "epoch: 179/399: 100%|██████████| 21872/21872 [00:18<00:00, 1161.93it/s, loss=0.001141]\n",
      "epoch: 180/399:   0%|          | 0/21872 [00:00<?, ?it/s]"
     ]
    },
    {
     "name": "stdout",
     "output_type": "stream",
     "text": [
      "eval psnr: 29.98\n"
     ]
    },
    {
     "name": "stderr",
     "output_type": "stream",
     "text": [
      "epoch: 180/399: 100%|██████████| 21872/21872 [00:19<00:00, 1112.03it/s, loss=0.001141]\n",
      "epoch: 181/399:   0%|          | 0/21872 [00:00<?, ?it/s]"
     ]
    },
    {
     "name": "stdout",
     "output_type": "stream",
     "text": [
      "eval psnr: 30.28\n"
     ]
    },
    {
     "name": "stderr",
     "output_type": "stream",
     "text": [
      "epoch: 181/399: 100%|██████████| 21872/21872 [00:18<00:00, 1176.16it/s, loss=0.001140]\n",
      "epoch: 182/399:   0%|          | 0/21872 [00:00<?, ?it/s]"
     ]
    },
    {
     "name": "stdout",
     "output_type": "stream",
     "text": [
      "eval psnr: 30.10\n"
     ]
    },
    {
     "name": "stderr",
     "output_type": "stream",
     "text": [
      "epoch: 182/399: 100%|██████████| 21872/21872 [00:18<00:00, 1179.25it/s, loss=0.001140]\n",
      "epoch: 183/399:   0%|          | 0/21872 [00:00<?, ?it/s]"
     ]
    },
    {
     "name": "stdout",
     "output_type": "stream",
     "text": [
      "eval psnr: 30.03\n"
     ]
    },
    {
     "name": "stderr",
     "output_type": "stream",
     "text": [
      "epoch: 183/399: 100%|██████████| 21872/21872 [00:19<00:00, 1130.83it/s, loss=0.001140]\n",
      "epoch: 184/399:   0%|          | 0/21872 [00:00<?, ?it/s]"
     ]
    },
    {
     "name": "stdout",
     "output_type": "stream",
     "text": [
      "eval psnr: 30.00\n"
     ]
    },
    {
     "name": "stderr",
     "output_type": "stream",
     "text": [
      "epoch: 184/399: 100%|██████████| 21872/21872 [00:19<00:00, 1121.12it/s, loss=0.001140]\n",
      "epoch: 185/399:   0%|          | 0/21872 [00:00<?, ?it/s]"
     ]
    },
    {
     "name": "stdout",
     "output_type": "stream",
     "text": [
      "eval psnr: 30.04\n"
     ]
    },
    {
     "name": "stderr",
     "output_type": "stream",
     "text": [
      "epoch: 185/399: 100%|██████████| 21872/21872 [00:18<00:00, 1196.81it/s, loss=0.001140]\n",
      "epoch: 186/399:   0%|          | 0/21872 [00:00<?, ?it/s]"
     ]
    },
    {
     "name": "stdout",
     "output_type": "stream",
     "text": [
      "eval psnr: 30.12\n"
     ]
    },
    {
     "name": "stderr",
     "output_type": "stream",
     "text": [
      "epoch: 186/399: 100%|██████████| 21872/21872 [00:18<00:00, 1166.90it/s, loss=0.001139]\n",
      "epoch: 187/399:   0%|          | 0/21872 [00:00<?, ?it/s]"
     ]
    },
    {
     "name": "stdout",
     "output_type": "stream",
     "text": [
      "eval psnr: 29.79\n"
     ]
    },
    {
     "name": "stderr",
     "output_type": "stream",
     "text": [
      "epoch: 187/399: 100%|██████████| 21872/21872 [00:19<00:00, 1096.98it/s, loss=0.001139]\n",
      "epoch: 188/399:   0%|          | 0/21872 [00:00<?, ?it/s]"
     ]
    },
    {
     "name": "stdout",
     "output_type": "stream",
     "text": [
      "eval psnr: 30.15\n"
     ]
    },
    {
     "name": "stderr",
     "output_type": "stream",
     "text": [
      "epoch: 188/399: 100%|██████████| 21872/21872 [00:19<00:00, 1139.69it/s, loss=0.001139]\n",
      "epoch: 189/399:   0%|          | 0/21872 [00:00<?, ?it/s]"
     ]
    },
    {
     "name": "stdout",
     "output_type": "stream",
     "text": [
      "eval psnr: 30.17\n"
     ]
    },
    {
     "name": "stderr",
     "output_type": "stream",
     "text": [
      "epoch: 189/399: 100%|██████████| 21872/21872 [00:18<00:00, 1179.45it/s, loss=0.001139]\n",
      "epoch: 190/399:   0%|          | 0/21872 [00:00<?, ?it/s]"
     ]
    },
    {
     "name": "stdout",
     "output_type": "stream",
     "text": [
      "eval psnr: 29.97\n"
     ]
    },
    {
     "name": "stderr",
     "output_type": "stream",
     "text": [
      "epoch: 190/399: 100%|██████████| 21872/21872 [00:18<00:00, 1163.75it/s, loss=0.001139]\n",
      "epoch: 191/399:   0%|          | 0/21872 [00:00<?, ?it/s]"
     ]
    },
    {
     "name": "stdout",
     "output_type": "stream",
     "text": [
      "eval psnr: 30.00\n"
     ]
    },
    {
     "name": "stderr",
     "output_type": "stream",
     "text": [
      "epoch: 191/399: 100%|██████████| 21872/21872 [00:20<00:00, 1083.12it/s, loss=0.001139]\n",
      "epoch: 192/399:   0%|          | 0/21872 [00:00<?, ?it/s]"
     ]
    },
    {
     "name": "stdout",
     "output_type": "stream",
     "text": [
      "eval psnr: 29.88\n"
     ]
    },
    {
     "name": "stderr",
     "output_type": "stream",
     "text": [
      "epoch: 192/399: 100%|██████████| 21872/21872 [00:18<00:00, 1197.35it/s, loss=0.001138]\n",
      "epoch: 193/399:   0%|          | 0/21872 [00:00<?, ?it/s]"
     ]
    },
    {
     "name": "stdout",
     "output_type": "stream",
     "text": [
      "eval psnr: 29.90\n"
     ]
    },
    {
     "name": "stderr",
     "output_type": "stream",
     "text": [
      "epoch: 193/399: 100%|██████████| 21872/21872 [00:18<00:00, 1157.85it/s, loss=0.001138]\n",
      "epoch: 194/399:   0%|          | 0/21872 [00:00<?, ?it/s]"
     ]
    },
    {
     "name": "stdout",
     "output_type": "stream",
     "text": [
      "eval psnr: 30.14\n"
     ]
    },
    {
     "name": "stderr",
     "output_type": "stream",
     "text": [
      "epoch: 194/399: 100%|██████████| 21872/21872 [00:18<00:00, 1162.27it/s, loss=0.001138]\n",
      "epoch: 195/399:   0%|          | 0/21872 [00:00<?, ?it/s]"
     ]
    },
    {
     "name": "stdout",
     "output_type": "stream",
     "text": [
      "eval psnr: 29.94\n"
     ]
    },
    {
     "name": "stderr",
     "output_type": "stream",
     "text": [
      "epoch: 195/399: 100%|██████████| 21872/21872 [00:19<00:00, 1097.43it/s, loss=0.001138]\n",
      "epoch: 196/399:   0%|          | 0/21872 [00:00<?, ?it/s]"
     ]
    },
    {
     "name": "stdout",
     "output_type": "stream",
     "text": [
      "eval psnr: 29.98\n"
     ]
    },
    {
     "name": "stderr",
     "output_type": "stream",
     "text": [
      "epoch: 196/399: 100%|██████████| 21872/21872 [00:18<00:00, 1172.20it/s, loss=0.001137]\n",
      "epoch: 197/399:   0%|          | 0/21872 [00:00<?, ?it/s]"
     ]
    },
    {
     "name": "stdout",
     "output_type": "stream",
     "text": [
      "eval psnr: 30.03\n"
     ]
    },
    {
     "name": "stderr",
     "output_type": "stream",
     "text": [
      "epoch: 197/399: 100%|██████████| 21872/21872 [00:18<00:00, 1183.91it/s, loss=0.001137]\n",
      "epoch: 198/399:   0%|          | 0/21872 [00:00<?, ?it/s]"
     ]
    },
    {
     "name": "stdout",
     "output_type": "stream",
     "text": [
      "eval psnr: 30.01\n"
     ]
    },
    {
     "name": "stderr",
     "output_type": "stream",
     "text": [
      "epoch: 198/399: 100%|██████████| 21872/21872 [00:18<00:00, 1163.64it/s, loss=0.001138]\n",
      "epoch: 199/399:   0%|          | 0/21872 [00:00<?, ?it/s]"
     ]
    },
    {
     "name": "stdout",
     "output_type": "stream",
     "text": [
      "eval psnr: 30.04\n"
     ]
    },
    {
     "name": "stderr",
     "output_type": "stream",
     "text": [
      "epoch: 199/399: 100%|██████████| 21872/21872 [00:19<00:00, 1128.74it/s, loss=0.001136]\n",
      "epoch: 200/399:   0%|          | 0/21872 [00:00<?, ?it/s]"
     ]
    },
    {
     "name": "stdout",
     "output_type": "stream",
     "text": [
      "eval psnr: 30.06\n"
     ]
    },
    {
     "name": "stderr",
     "output_type": "stream",
     "text": [
      "epoch: 200/399: 100%|██████████| 21872/21872 [00:18<00:00, 1182.45it/s, loss=0.001137]\n",
      "epoch: 201/399:   0%|          | 0/21872 [00:00<?, ?it/s]"
     ]
    },
    {
     "name": "stdout",
     "output_type": "stream",
     "text": [
      "eval psnr: 29.90\n"
     ]
    },
    {
     "name": "stderr",
     "output_type": "stream",
     "text": [
      "epoch: 201/399: 100%|██████████| 21872/21872 [00:18<00:00, 1169.61it/s, loss=0.001137]\n",
      "epoch: 202/399:   0%|          | 0/21872 [00:00<?, ?it/s]"
     ]
    },
    {
     "name": "stdout",
     "output_type": "stream",
     "text": [
      "eval psnr: 29.92\n"
     ]
    },
    {
     "name": "stderr",
     "output_type": "stream",
     "text": [
      "epoch: 202/399: 100%|██████████| 21872/21872 [00:20<00:00, 1090.81it/s, loss=0.001137]\n",
      "epoch: 203/399:   0%|          | 0/21872 [00:00<?, ?it/s]"
     ]
    },
    {
     "name": "stdout",
     "output_type": "stream",
     "text": [
      "eval psnr: 30.00\n"
     ]
    },
    {
     "name": "stderr",
     "output_type": "stream",
     "text": [
      "epoch: 203/399: 100%|██████████| 21872/21872 [00:18<00:00, 1162.32it/s, loss=0.001136]\n",
      "epoch: 204/399:   0%|          | 0/21872 [00:00<?, ?it/s]"
     ]
    },
    {
     "name": "stdout",
     "output_type": "stream",
     "text": [
      "eval psnr: 29.96\n"
     ]
    },
    {
     "name": "stderr",
     "output_type": "stream",
     "text": [
      "epoch: 204/399: 100%|██████████| 21872/21872 [00:18<00:00, 1197.22it/s, loss=0.001137]\n",
      "epoch: 205/399:   0%|          | 0/21872 [00:00<?, ?it/s]"
     ]
    },
    {
     "name": "stdout",
     "output_type": "stream",
     "text": [
      "eval psnr: 30.05\n"
     ]
    },
    {
     "name": "stderr",
     "output_type": "stream",
     "text": [
      "epoch: 205/399: 100%|██████████| 21872/21872 [00:18<00:00, 1168.23it/s, loss=0.001136]\n",
      "epoch: 206/399:   0%|          | 0/21872 [00:00<?, ?it/s]"
     ]
    },
    {
     "name": "stdout",
     "output_type": "stream",
     "text": [
      "eval psnr: 29.87\n"
     ]
    },
    {
     "name": "stderr",
     "output_type": "stream",
     "text": [
      "epoch: 206/399: 100%|██████████| 21872/21872 [00:19<00:00, 1111.54it/s, loss=0.001136]\n",
      "epoch: 207/399:   0%|          | 0/21872 [00:00<?, ?it/s]"
     ]
    },
    {
     "name": "stdout",
     "output_type": "stream",
     "text": [
      "eval psnr: 30.00\n"
     ]
    },
    {
     "name": "stderr",
     "output_type": "stream",
     "text": [
      "epoch: 207/399: 100%|██████████| 21872/21872 [00:18<00:00, 1207.64it/s, loss=0.001136]\n",
      "epoch: 208/399:   0%|          | 0/21872 [00:00<?, ?it/s]"
     ]
    },
    {
     "name": "stdout",
     "output_type": "stream",
     "text": [
      "eval psnr: 29.95\n"
     ]
    },
    {
     "name": "stderr",
     "output_type": "stream",
     "text": [
      "epoch: 208/399: 100%|██████████| 21872/21872 [00:16<00:00, 1310.25it/s, loss=0.001135]\n",
      "epoch: 209/399:   0%|          | 0/21872 [00:00<?, ?it/s]"
     ]
    },
    {
     "name": "stdout",
     "output_type": "stream",
     "text": [
      "eval psnr: 29.82\n"
     ]
    },
    {
     "name": "stderr",
     "output_type": "stream",
     "text": [
      "epoch: 209/399: 100%|██████████| 21872/21872 [00:17<00:00, 1222.30it/s, loss=0.001134]\n",
      "epoch: 210/399:   0%|          | 0/21872 [00:00<?, ?it/s]"
     ]
    },
    {
     "name": "stdout",
     "output_type": "stream",
     "text": [
      "eval psnr: 29.88\n"
     ]
    },
    {
     "name": "stderr",
     "output_type": "stream",
     "text": [
      "epoch: 210/399: 100%|██████████| 21872/21872 [00:16<00:00, 1337.59it/s, loss=0.001135]\n",
      "epoch: 211/399:   0%|          | 0/21872 [00:00<?, ?it/s]"
     ]
    },
    {
     "name": "stdout",
     "output_type": "stream",
     "text": [
      "eval psnr: 29.89\n"
     ]
    },
    {
     "name": "stderr",
     "output_type": "stream",
     "text": [
      "epoch: 211/399: 100%|██████████| 21872/21872 [00:16<00:00, 1300.59it/s, loss=0.001134]\n",
      "epoch: 212/399:   0%|          | 0/21872 [00:00<?, ?it/s]"
     ]
    },
    {
     "name": "stdout",
     "output_type": "stream",
     "text": [
      "eval psnr: 30.10\n"
     ]
    },
    {
     "name": "stderr",
     "output_type": "stream",
     "text": [
      "epoch: 212/399: 100%|██████████| 21872/21872 [00:17<00:00, 1218.24it/s, loss=0.001135]\n",
      "epoch: 213/399:   0%|          | 0/21872 [00:00<?, ?it/s]"
     ]
    },
    {
     "name": "stdout",
     "output_type": "stream",
     "text": [
      "eval psnr: 30.16\n"
     ]
    },
    {
     "name": "stderr",
     "output_type": "stream",
     "text": [
      "epoch: 213/399: 100%|██████████| 21872/21872 [00:16<00:00, 1335.87it/s, loss=0.001135]\n",
      "epoch: 214/399:   0%|          | 0/21872 [00:00<?, ?it/s]"
     ]
    },
    {
     "name": "stdout",
     "output_type": "stream",
     "text": [
      "eval psnr: 30.02\n"
     ]
    },
    {
     "name": "stderr",
     "output_type": "stream",
     "text": [
      "epoch: 214/399: 100%|██████████| 21872/21872 [00:17<00:00, 1255.63it/s, loss=0.001134]\n",
      "epoch: 215/399:   0%|          | 0/21872 [00:00<?, ?it/s]"
     ]
    },
    {
     "name": "stdout",
     "output_type": "stream",
     "text": [
      "eval psnr: 29.83\n"
     ]
    },
    {
     "name": "stderr",
     "output_type": "stream",
     "text": [
      "epoch: 215/399: 100%|██████████| 21872/21872 [00:16<00:00, 1287.83it/s, loss=0.001134]\n",
      "epoch: 216/399:   0%|          | 0/21872 [00:00<?, ?it/s]"
     ]
    },
    {
     "name": "stdout",
     "output_type": "stream",
     "text": [
      "eval psnr: 29.65\n"
     ]
    },
    {
     "name": "stderr",
     "output_type": "stream",
     "text": [
      "epoch: 216/399: 100%|██████████| 21872/21872 [00:16<00:00, 1350.64it/s, loss=0.001134]\n",
      "epoch: 217/399:   0%|          | 0/21872 [00:00<?, ?it/s]"
     ]
    },
    {
     "name": "stdout",
     "output_type": "stream",
     "text": [
      "eval psnr: 29.97\n"
     ]
    },
    {
     "name": "stderr",
     "output_type": "stream",
     "text": [
      "epoch: 217/399: 100%|██████████| 21872/21872 [00:18<00:00, 1202.70it/s, loss=0.001134]\n",
      "epoch: 218/399:   0%|          | 0/21872 [00:00<?, ?it/s]"
     ]
    },
    {
     "name": "stdout",
     "output_type": "stream",
     "text": [
      "eval psnr: 29.86\n"
     ]
    },
    {
     "name": "stderr",
     "output_type": "stream",
     "text": [
      "epoch: 218/399: 100%|██████████| 21872/21872 [00:16<00:00, 1326.52it/s, loss=0.001133]\n",
      "epoch: 219/399:   0%|          | 0/21872 [00:00<?, ?it/s]"
     ]
    },
    {
     "name": "stdout",
     "output_type": "stream",
     "text": [
      "eval psnr: 29.93\n"
     ]
    },
    {
     "name": "stderr",
     "output_type": "stream",
     "text": [
      "epoch: 219/399: 100%|██████████| 21872/21872 [00:16<00:00, 1334.74it/s, loss=0.001134]\n",
      "epoch: 220/399:   0%|          | 0/21872 [00:00<?, ?it/s]"
     ]
    },
    {
     "name": "stdout",
     "output_type": "stream",
     "text": [
      "eval psnr: 29.84\n"
     ]
    },
    {
     "name": "stderr",
     "output_type": "stream",
     "text": [
      "epoch: 220/399: 100%|██████████| 21872/21872 [00:17<00:00, 1227.13it/s, loss=0.001133]\n",
      "epoch: 221/399:   0%|          | 0/21872 [00:00<?, ?it/s]"
     ]
    },
    {
     "name": "stdout",
     "output_type": "stream",
     "text": [
      "eval psnr: 30.10\n"
     ]
    },
    {
     "name": "stderr",
     "output_type": "stream",
     "text": [
      "epoch: 221/399: 100%|██████████| 21872/21872 [00:21<00:00, 1013.19it/s, loss=0.001133]\n",
      "epoch: 222/399:   0%|          | 0/21872 [00:00<?, ?it/s]"
     ]
    },
    {
     "name": "stdout",
     "output_type": "stream",
     "text": [
      "eval psnr: 29.84\n"
     ]
    },
    {
     "name": "stderr",
     "output_type": "stream",
     "text": [
      "epoch: 222/399: 100%|██████████| 21872/21872 [00:22<00:00, 990.63it/s, loss=0.001133] \n",
      "epoch: 223/399:   0%|          | 0/21872 [00:00<?, ?it/s]"
     ]
    },
    {
     "name": "stdout",
     "output_type": "stream",
     "text": [
      "eval psnr: 29.95\n"
     ]
    },
    {
     "name": "stderr",
     "output_type": "stream",
     "text": [
      "epoch: 223/399: 100%|██████████| 21872/21872 [00:13<00:00, 1579.04it/s, loss=0.001133]\n",
      "epoch: 224/399:   0%|          | 0/21872 [00:00<?, ?it/s]"
     ]
    },
    {
     "name": "stdout",
     "output_type": "stream",
     "text": [
      "eval psnr: 29.95\n"
     ]
    },
    {
     "name": "stderr",
     "output_type": "stream",
     "text": [
      "epoch: 224/399: 100%|██████████| 21872/21872 [00:11<00:00, 1839.52it/s, loss=0.001133]\n",
      "epoch: 225/399:   0%|          | 0/21872 [00:00<?, ?it/s]"
     ]
    },
    {
     "name": "stdout",
     "output_type": "stream",
     "text": [
      "eval psnr: 30.00\n"
     ]
    },
    {
     "name": "stderr",
     "output_type": "stream",
     "text": [
      "epoch: 225/399: 100%|██████████| 21872/21872 [00:11<00:00, 1834.11it/s, loss=0.001133]\n",
      "epoch: 226/399:   0%|          | 0/21872 [00:00<?, ?it/s]"
     ]
    },
    {
     "name": "stdout",
     "output_type": "stream",
     "text": [
      "eval psnr: 29.78\n"
     ]
    },
    {
     "name": "stderr",
     "output_type": "stream",
     "text": [
      "epoch: 226/399: 100%|██████████| 21872/21872 [00:12<00:00, 1807.76it/s, loss=0.001132]\n",
      "epoch: 227/399:   0%|          | 0/21872 [00:00<?, ?it/s]"
     ]
    },
    {
     "name": "stdout",
     "output_type": "stream",
     "text": [
      "eval psnr: 29.92\n"
     ]
    },
    {
     "name": "stderr",
     "output_type": "stream",
     "text": [
      "epoch: 227/399: 100%|██████████| 21872/21872 [00:12<00:00, 1821.26it/s, loss=0.001132]\n",
      "epoch: 228/399:   0%|          | 0/21872 [00:00<?, ?it/s]"
     ]
    },
    {
     "name": "stdout",
     "output_type": "stream",
     "text": [
      "eval psnr: 29.81\n"
     ]
    },
    {
     "name": "stderr",
     "output_type": "stream",
     "text": [
      "epoch: 228/399: 100%|██████████| 21872/21872 [00:11<00:00, 1843.23it/s, loss=0.001132]\n",
      "epoch: 229/399:   0%|          | 0/21872 [00:00<?, ?it/s]"
     ]
    },
    {
     "name": "stdout",
     "output_type": "stream",
     "text": [
      "eval psnr: 29.94\n"
     ]
    },
    {
     "name": "stderr",
     "output_type": "stream",
     "text": [
      "epoch: 229/399: 100%|██████████| 21872/21872 [00:12<00:00, 1780.52it/s, loss=0.001132]\n",
      "epoch: 230/399:   0%|          | 0/21872 [00:00<?, ?it/s]"
     ]
    },
    {
     "name": "stdout",
     "output_type": "stream",
     "text": [
      "eval psnr: 29.78\n"
     ]
    },
    {
     "name": "stderr",
     "output_type": "stream",
     "text": [
      "epoch: 230/399: 100%|██████████| 21872/21872 [00:12<00:00, 1783.06it/s, loss=0.001132]\n",
      "epoch: 231/399:   0%|          | 0/21872 [00:00<?, ?it/s]"
     ]
    },
    {
     "name": "stdout",
     "output_type": "stream",
     "text": [
      "eval psnr: 29.99\n"
     ]
    },
    {
     "name": "stderr",
     "output_type": "stream",
     "text": [
      "epoch: 231/399: 100%|██████████| 21872/21872 [00:12<00:00, 1779.78it/s, loss=0.001131]\n",
      "epoch: 232/399:   0%|          | 0/21872 [00:00<?, ?it/s]"
     ]
    },
    {
     "name": "stdout",
     "output_type": "stream",
     "text": [
      "eval psnr: 29.92\n"
     ]
    },
    {
     "name": "stderr",
     "output_type": "stream",
     "text": [
      "epoch: 232/399: 100%|██████████| 21872/21872 [00:12<00:00, 1792.66it/s, loss=0.001131]\n",
      "epoch: 233/399:   0%|          | 0/21872 [00:00<?, ?it/s]"
     ]
    },
    {
     "name": "stdout",
     "output_type": "stream",
     "text": [
      "eval psnr: 30.12\n"
     ]
    },
    {
     "name": "stderr",
     "output_type": "stream",
     "text": [
      "epoch: 233/399: 100%|██████████| 21872/21872 [00:12<00:00, 1732.59it/s, loss=0.001131]\n",
      "epoch: 234/399:   0%|          | 0/21872 [00:00<?, ?it/s]"
     ]
    },
    {
     "name": "stdout",
     "output_type": "stream",
     "text": [
      "eval psnr: 29.99\n"
     ]
    },
    {
     "name": "stderr",
     "output_type": "stream",
     "text": [
      "epoch: 234/399: 100%|██████████| 21872/21872 [00:12<00:00, 1695.15it/s, loss=0.001131]\n",
      "epoch: 235/399:   0%|          | 0/21872 [00:00<?, ?it/s]"
     ]
    },
    {
     "name": "stdout",
     "output_type": "stream",
     "text": [
      "eval psnr: 29.83\n"
     ]
    },
    {
     "name": "stderr",
     "output_type": "stream",
     "text": [
      "epoch: 235/399: 100%|██████████| 21872/21872 [00:12<00:00, 1754.55it/s, loss=0.001131]\n",
      "epoch: 236/399:   0%|          | 0/21872 [00:00<?, ?it/s]"
     ]
    },
    {
     "name": "stdout",
     "output_type": "stream",
     "text": [
      "eval psnr: 29.89\n"
     ]
    },
    {
     "name": "stderr",
     "output_type": "stream",
     "text": [
      "epoch: 236/399: 100%|██████████| 21872/21872 [00:12<00:00, 1698.34it/s, loss=0.001132]\n",
      "epoch: 237/399:   0%|          | 0/21872 [00:00<?, ?it/s]"
     ]
    },
    {
     "name": "stdout",
     "output_type": "stream",
     "text": [
      "eval psnr: 29.89\n"
     ]
    },
    {
     "name": "stderr",
     "output_type": "stream",
     "text": [
      "epoch: 237/399: 100%|██████████| 21872/21872 [00:12<00:00, 1757.82it/s, loss=0.001130]\n",
      "epoch: 238/399:   0%|          | 0/21872 [00:00<?, ?it/s]"
     ]
    },
    {
     "name": "stdout",
     "output_type": "stream",
     "text": [
      "eval psnr: 29.85\n"
     ]
    },
    {
     "name": "stderr",
     "output_type": "stream",
     "text": [
      "epoch: 238/399: 100%|██████████| 21872/21872 [00:12<00:00, 1703.11it/s, loss=0.001131]\n",
      "epoch: 239/399:   0%|          | 0/21872 [00:00<?, ?it/s]"
     ]
    },
    {
     "name": "stdout",
     "output_type": "stream",
     "text": [
      "eval psnr: 29.95\n"
     ]
    },
    {
     "name": "stderr",
     "output_type": "stream",
     "text": [
      "epoch: 239/399: 100%|██████████| 21872/21872 [00:12<00:00, 1735.22it/s, loss=0.001130]\n",
      "epoch: 240/399:   0%|          | 0/21872 [00:00<?, ?it/s]"
     ]
    },
    {
     "name": "stdout",
     "output_type": "stream",
     "text": [
      "eval psnr: 29.90\n"
     ]
    },
    {
     "name": "stderr",
     "output_type": "stream",
     "text": [
      "epoch: 240/399: 100%|██████████| 21872/21872 [00:12<00:00, 1731.69it/s, loss=0.001131]\n",
      "epoch: 241/399:   0%|          | 0/21872 [00:00<?, ?it/s]"
     ]
    },
    {
     "name": "stdout",
     "output_type": "stream",
     "text": [
      "eval psnr: 29.93\n"
     ]
    },
    {
     "name": "stderr",
     "output_type": "stream",
     "text": [
      "epoch: 241/399: 100%|██████████| 21872/21872 [00:12<00:00, 1728.81it/s, loss=0.001131]\n",
      "epoch: 242/399:   0%|          | 0/21872 [00:00<?, ?it/s]"
     ]
    },
    {
     "name": "stdout",
     "output_type": "stream",
     "text": [
      "eval psnr: 30.04\n"
     ]
    },
    {
     "name": "stderr",
     "output_type": "stream",
     "text": [
      "epoch: 242/399: 100%|██████████| 21872/21872 [00:12<00:00, 1763.17it/s, loss=0.001130]\n",
      "epoch: 243/399:   0%|          | 0/21872 [00:00<?, ?it/s]"
     ]
    },
    {
     "name": "stdout",
     "output_type": "stream",
     "text": [
      "eval psnr: 30.12\n"
     ]
    },
    {
     "name": "stderr",
     "output_type": "stream",
     "text": [
      "epoch: 243/399: 100%|██████████| 21872/21872 [00:11<00:00, 1852.25it/s, loss=0.001130]\n",
      "epoch: 244/399:   0%|          | 0/21872 [00:00<?, ?it/s]"
     ]
    },
    {
     "name": "stdout",
     "output_type": "stream",
     "text": [
      "eval psnr: 29.79\n"
     ]
    },
    {
     "name": "stderr",
     "output_type": "stream",
     "text": [
      "epoch: 244/399: 100%|██████████| 21872/21872 [00:12<00:00, 1778.19it/s, loss=0.001129]\n",
      "epoch: 245/399:   0%|          | 0/21872 [00:00<?, ?it/s]"
     ]
    },
    {
     "name": "stdout",
     "output_type": "stream",
     "text": [
      "eval psnr: 29.94\n"
     ]
    },
    {
     "name": "stderr",
     "output_type": "stream",
     "text": [
      "epoch: 245/399: 100%|██████████| 21872/21872 [00:12<00:00, 1739.88it/s, loss=0.001129]\n",
      "epoch: 246/399:   0%|          | 0/21872 [00:00<?, ?it/s]"
     ]
    },
    {
     "name": "stdout",
     "output_type": "stream",
     "text": [
      "eval psnr: 29.96\n"
     ]
    },
    {
     "name": "stderr",
     "output_type": "stream",
     "text": [
      "epoch: 246/399: 100%|██████████| 21872/21872 [00:12<00:00, 1784.62it/s, loss=0.001130]\n",
      "epoch: 247/399:   0%|          | 0/21872 [00:00<?, ?it/s]"
     ]
    },
    {
     "name": "stdout",
     "output_type": "stream",
     "text": [
      "eval psnr: 30.01\n"
     ]
    },
    {
     "name": "stderr",
     "output_type": "stream",
     "text": [
      "epoch: 247/399: 100%|██████████| 21872/21872 [00:12<00:00, 1734.79it/s, loss=0.001129]\n",
      "epoch: 248/399:   0%|          | 0/21872 [00:00<?, ?it/s]"
     ]
    },
    {
     "name": "stdout",
     "output_type": "stream",
     "text": [
      "eval psnr: 29.76\n"
     ]
    },
    {
     "name": "stderr",
     "output_type": "stream",
     "text": [
      "epoch: 248/399: 100%|██████████| 21872/21872 [00:12<00:00, 1759.89it/s, loss=0.001129]\n",
      "epoch: 249/399:   0%|          | 0/21872 [00:00<?, ?it/s]"
     ]
    },
    {
     "name": "stdout",
     "output_type": "stream",
     "text": [
      "eval psnr: 29.77\n"
     ]
    },
    {
     "name": "stderr",
     "output_type": "stream",
     "text": [
      "epoch: 249/399: 100%|██████████| 21872/21872 [00:11<00:00, 1825.76it/s, loss=0.001128]\n",
      "epoch: 250/399:   0%|          | 0/21872 [00:00<?, ?it/s]"
     ]
    },
    {
     "name": "stdout",
     "output_type": "stream",
     "text": [
      "eval psnr: 29.86\n"
     ]
    },
    {
     "name": "stderr",
     "output_type": "stream",
     "text": [
      "epoch: 250/399: 100%|██████████| 21872/21872 [00:12<00:00, 1808.37it/s, loss=0.001129]\n",
      "epoch: 251/399:   0%|          | 0/21872 [00:00<?, ?it/s]"
     ]
    },
    {
     "name": "stdout",
     "output_type": "stream",
     "text": [
      "eval psnr: 29.81\n"
     ]
    },
    {
     "name": "stderr",
     "output_type": "stream",
     "text": [
      "epoch: 251/399: 100%|██████████| 21872/21872 [00:12<00:00, 1764.52it/s, loss=0.001129]\n",
      "epoch: 252/399:   0%|          | 0/21872 [00:00<?, ?it/s]"
     ]
    },
    {
     "name": "stdout",
     "output_type": "stream",
     "text": [
      "eval psnr: 29.71\n"
     ]
    },
    {
     "name": "stderr",
     "output_type": "stream",
     "text": [
      "epoch: 252/399: 100%|██████████| 21872/21872 [00:12<00:00, 1762.68it/s, loss=0.001128]\n",
      "epoch: 253/399:   0%|          | 0/21872 [00:00<?, ?it/s]"
     ]
    },
    {
     "name": "stdout",
     "output_type": "stream",
     "text": [
      "eval psnr: 29.98\n"
     ]
    },
    {
     "name": "stderr",
     "output_type": "stream",
     "text": [
      "epoch: 253/399: 100%|██████████| 21872/21872 [00:12<00:00, 1741.93it/s, loss=0.001128]\n",
      "epoch: 254/399:   0%|          | 0/21872 [00:00<?, ?it/s]"
     ]
    },
    {
     "name": "stdout",
     "output_type": "stream",
     "text": [
      "eval psnr: 30.00\n"
     ]
    },
    {
     "name": "stderr",
     "output_type": "stream",
     "text": [
      "epoch: 254/399: 100%|██████████| 21872/21872 [00:12<00:00, 1729.84it/s, loss=0.001128]\n",
      "epoch: 255/399:   0%|          | 0/21872 [00:00<?, ?it/s]"
     ]
    },
    {
     "name": "stdout",
     "output_type": "stream",
     "text": [
      "eval psnr: 29.74\n"
     ]
    },
    {
     "name": "stderr",
     "output_type": "stream",
     "text": [
      "epoch: 255/399: 100%|██████████| 21872/21872 [00:12<00:00, 1740.94it/s, loss=0.001128]\n",
      "epoch: 256/399:   0%|          | 0/21872 [00:00<?, ?it/s]"
     ]
    },
    {
     "name": "stdout",
     "output_type": "stream",
     "text": [
      "eval psnr: 29.64\n"
     ]
    },
    {
     "name": "stderr",
     "output_type": "stream",
     "text": [
      "epoch: 256/399: 100%|██████████| 21872/21872 [00:12<00:00, 1822.46it/s, loss=0.001128]\n",
      "epoch: 257/399:   0%|          | 0/21872 [00:00<?, ?it/s]"
     ]
    },
    {
     "name": "stdout",
     "output_type": "stream",
     "text": [
      "eval psnr: 29.94\n"
     ]
    },
    {
     "name": "stderr",
     "output_type": "stream",
     "text": [
      "epoch: 257/399: 100%|██████████| 21872/21872 [00:12<00:00, 1749.90it/s, loss=0.001128]\n",
      "epoch: 258/399:   0%|          | 0/21872 [00:00<?, ?it/s]"
     ]
    },
    {
     "name": "stdout",
     "output_type": "stream",
     "text": [
      "eval psnr: 29.69\n"
     ]
    },
    {
     "name": "stderr",
     "output_type": "stream",
     "text": [
      "epoch: 258/399: 100%|██████████| 21872/21872 [00:12<00:00, 1745.07it/s, loss=0.001128]\n",
      "epoch: 259/399:   0%|          | 0/21872 [00:00<?, ?it/s]"
     ]
    },
    {
     "name": "stdout",
     "output_type": "stream",
     "text": [
      "eval psnr: 29.72\n"
     ]
    },
    {
     "name": "stderr",
     "output_type": "stream",
     "text": [
      "epoch: 259/399: 100%|██████████| 21872/21872 [00:12<00:00, 1737.18it/s, loss=0.001127]\n",
      "epoch: 260/399:   0%|          | 0/21872 [00:00<?, ?it/s]"
     ]
    },
    {
     "name": "stdout",
     "output_type": "stream",
     "text": [
      "eval psnr: 29.94\n"
     ]
    },
    {
     "name": "stderr",
     "output_type": "stream",
     "text": [
      "epoch: 260/399: 100%|██████████| 21872/21872 [00:12<00:00, 1724.68it/s, loss=0.001127]\n",
      "epoch: 261/399:   0%|          | 0/21872 [00:00<?, ?it/s]"
     ]
    },
    {
     "name": "stdout",
     "output_type": "stream",
     "text": [
      "eval psnr: 29.74\n"
     ]
    },
    {
     "name": "stderr",
     "output_type": "stream",
     "text": [
      "epoch: 261/399: 100%|██████████| 21872/21872 [00:12<00:00, 1741.72it/s, loss=0.001127]\n",
      "epoch: 262/399:   0%|          | 0/21872 [00:00<?, ?it/s]"
     ]
    },
    {
     "name": "stdout",
     "output_type": "stream",
     "text": [
      "eval psnr: 29.67\n"
     ]
    },
    {
     "name": "stderr",
     "output_type": "stream",
     "text": [
      "epoch: 262/399: 100%|██████████| 21872/21872 [00:12<00:00, 1750.38it/s, loss=0.001127]\n",
      "epoch: 263/399:   0%|          | 0/21872 [00:00<?, ?it/s]"
     ]
    },
    {
     "name": "stdout",
     "output_type": "stream",
     "text": [
      "eval psnr: 29.86\n"
     ]
    },
    {
     "name": "stderr",
     "output_type": "stream",
     "text": [
      "epoch: 263/399: 100%|██████████| 21872/21872 [00:12<00:00, 1768.14it/s, loss=0.001127]\n",
      "epoch: 264/399:   0%|          | 0/21872 [00:00<?, ?it/s]"
     ]
    },
    {
     "name": "stdout",
     "output_type": "stream",
     "text": [
      "eval psnr: 29.89\n"
     ]
    },
    {
     "name": "stderr",
     "output_type": "stream",
     "text": [
      "epoch: 264/399: 100%|██████████| 21872/21872 [00:12<00:00, 1774.27it/s, loss=0.001127]\n",
      "epoch: 265/399:   0%|          | 0/21872 [00:00<?, ?it/s]"
     ]
    },
    {
     "name": "stdout",
     "output_type": "stream",
     "text": [
      "eval psnr: 29.95\n"
     ]
    },
    {
     "name": "stderr",
     "output_type": "stream",
     "text": [
      "epoch: 265/399: 100%|██████████| 21872/21872 [00:12<00:00, 1766.67it/s, loss=0.001127]\n",
      "epoch: 266/399:   0%|          | 0/21872 [00:00<?, ?it/s]"
     ]
    },
    {
     "name": "stdout",
     "output_type": "stream",
     "text": [
      "eval psnr: 29.81\n"
     ]
    },
    {
     "name": "stderr",
     "output_type": "stream",
     "text": [
      "epoch: 266/399: 100%|██████████| 21872/21872 [00:12<00:00, 1729.34it/s, loss=0.001126]\n",
      "epoch: 267/399:   0%|          | 0/21872 [00:00<?, ?it/s]"
     ]
    },
    {
     "name": "stdout",
     "output_type": "stream",
     "text": [
      "eval psnr: 29.81\n"
     ]
    },
    {
     "name": "stderr",
     "output_type": "stream",
     "text": [
      "epoch: 267/399: 100%|██████████| 21872/21872 [00:12<00:00, 1738.03it/s, loss=0.001127]\n",
      "epoch: 268/399:   0%|          | 0/21872 [00:00<?, ?it/s]"
     ]
    },
    {
     "name": "stdout",
     "output_type": "stream",
     "text": [
      "eval psnr: 29.87\n"
     ]
    },
    {
     "name": "stderr",
     "output_type": "stream",
     "text": [
      "epoch: 268/399: 100%|██████████| 21872/21872 [00:12<00:00, 1726.66it/s, loss=0.001126]\n",
      "epoch: 269/399:   0%|          | 0/21872 [00:00<?, ?it/s]"
     ]
    },
    {
     "name": "stdout",
     "output_type": "stream",
     "text": [
      "eval psnr: 29.82\n"
     ]
    },
    {
     "name": "stderr",
     "output_type": "stream",
     "text": [
      "epoch: 269/399: 100%|██████████| 21872/21872 [00:12<00:00, 1735.68it/s, loss=0.001126]\n",
      "epoch: 270/399:   0%|          | 0/21872 [00:00<?, ?it/s]"
     ]
    },
    {
     "name": "stdout",
     "output_type": "stream",
     "text": [
      "eval psnr: 29.95\n"
     ]
    },
    {
     "name": "stderr",
     "output_type": "stream",
     "text": [
      "epoch: 270/399: 100%|██████████| 21872/21872 [00:12<00:00, 1801.73it/s, loss=0.001126]\n",
      "epoch: 271/399:   0%|          | 0/21872 [00:00<?, ?it/s]"
     ]
    },
    {
     "name": "stdout",
     "output_type": "stream",
     "text": [
      "eval psnr: 29.79\n"
     ]
    },
    {
     "name": "stderr",
     "output_type": "stream",
     "text": [
      "epoch: 271/399: 100%|██████████| 21872/21872 [00:12<00:00, 1801.51it/s, loss=0.001126]\n",
      "epoch: 272/399:   0%|          | 0/21872 [00:00<?, ?it/s]"
     ]
    },
    {
     "name": "stdout",
     "output_type": "stream",
     "text": [
      "eval psnr: 29.86\n"
     ]
    },
    {
     "name": "stderr",
     "output_type": "stream",
     "text": [
      "epoch: 272/399: 100%|██████████| 21872/21872 [00:12<00:00, 1735.46it/s, loss=0.001125]\n",
      "epoch: 273/399:   0%|          | 0/21872 [00:00<?, ?it/s]"
     ]
    },
    {
     "name": "stdout",
     "output_type": "stream",
     "text": [
      "eval psnr: 30.08\n"
     ]
    },
    {
     "name": "stderr",
     "output_type": "stream",
     "text": [
      "epoch: 273/399: 100%|██████████| 21872/21872 [00:12<00:00, 1705.41it/s, loss=0.001126]\n",
      "epoch: 274/399:   0%|          | 0/21872 [00:00<?, ?it/s]"
     ]
    },
    {
     "name": "stdout",
     "output_type": "stream",
     "text": [
      "eval psnr: 30.22\n"
     ]
    },
    {
     "name": "stderr",
     "output_type": "stream",
     "text": [
      "epoch: 274/399: 100%|██████████| 21872/21872 [00:12<00:00, 1719.50it/s, loss=0.001125]\n",
      "epoch: 275/399:   0%|          | 0/21872 [00:00<?, ?it/s]"
     ]
    },
    {
     "name": "stdout",
     "output_type": "stream",
     "text": [
      "eval psnr: 29.73\n"
     ]
    },
    {
     "name": "stderr",
     "output_type": "stream",
     "text": [
      "epoch: 275/399: 100%|██████████| 21872/21872 [00:12<00:00, 1736.53it/s, loss=0.001125]\n",
      "epoch: 276/399:   0%|          | 0/21872 [00:00<?, ?it/s]"
     ]
    },
    {
     "name": "stdout",
     "output_type": "stream",
     "text": [
      "eval psnr: 29.78\n"
     ]
    },
    {
     "name": "stderr",
     "output_type": "stream",
     "text": [
      "epoch: 276/399: 100%|██████████| 21872/21872 [00:12<00:00, 1722.44it/s, loss=0.001126]\n",
      "epoch: 277/399:   0%|          | 0/21872 [00:00<?, ?it/s]"
     ]
    },
    {
     "name": "stdout",
     "output_type": "stream",
     "text": [
      "eval psnr: 29.96\n"
     ]
    },
    {
     "name": "stderr",
     "output_type": "stream",
     "text": [
      "epoch: 277/399: 100%|██████████| 21872/21872 [00:12<00:00, 1707.70it/s, loss=0.001126]\n",
      "epoch: 278/399:   0%|          | 0/21872 [00:00<?, ?it/s]"
     ]
    },
    {
     "name": "stdout",
     "output_type": "stream",
     "text": [
      "eval psnr: 30.06\n"
     ]
    },
    {
     "name": "stderr",
     "output_type": "stream",
     "text": [
      "epoch: 278/399: 100%|██████████| 21872/21872 [00:12<00:00, 1706.88it/s, loss=0.001126]\n",
      "epoch: 279/399:   0%|          | 0/21872 [00:00<?, ?it/s]"
     ]
    },
    {
     "name": "stdout",
     "output_type": "stream",
     "text": [
      "eval psnr: 29.73\n"
     ]
    },
    {
     "name": "stderr",
     "output_type": "stream",
     "text": [
      "epoch: 279/399: 100%|██████████| 21872/21872 [00:12<00:00, 1803.55it/s, loss=0.001125]\n",
      "epoch: 280/399:   0%|          | 0/21872 [00:00<?, ?it/s]"
     ]
    },
    {
     "name": "stdout",
     "output_type": "stream",
     "text": [
      "eval psnr: 29.74\n"
     ]
    },
    {
     "name": "stderr",
     "output_type": "stream",
     "text": [
      "epoch: 280/399: 100%|██████████| 21872/21872 [00:12<00:00, 1764.97it/s, loss=0.001125]\n",
      "epoch: 281/399:   0%|          | 0/21872 [00:00<?, ?it/s]"
     ]
    },
    {
     "name": "stdout",
     "output_type": "stream",
     "text": [
      "eval psnr: 29.97\n"
     ]
    },
    {
     "name": "stderr",
     "output_type": "stream",
     "text": [
      "epoch: 281/399: 100%|██████████| 21872/21872 [00:12<00:00, 1766.18it/s, loss=0.001125]\n",
      "epoch: 282/399:   0%|          | 0/21872 [00:00<?, ?it/s]"
     ]
    },
    {
     "name": "stdout",
     "output_type": "stream",
     "text": [
      "eval psnr: 29.85\n"
     ]
    },
    {
     "name": "stderr",
     "output_type": "stream",
     "text": [
      "epoch: 282/399: 100%|██████████| 21872/21872 [00:12<00:00, 1760.40it/s, loss=0.001125]\n",
      "epoch: 283/399:   0%|          | 0/21872 [00:00<?, ?it/s]"
     ]
    },
    {
     "name": "stdout",
     "output_type": "stream",
     "text": [
      "eval psnr: 29.81\n"
     ]
    },
    {
     "name": "stderr",
     "output_type": "stream",
     "text": [
      "epoch: 283/399: 100%|██████████| 21872/21872 [00:12<00:00, 1779.72it/s, loss=0.001125]\n",
      "epoch: 284/399:   0%|          | 0/21872 [00:00<?, ?it/s]"
     ]
    },
    {
     "name": "stdout",
     "output_type": "stream",
     "text": [
      "eval psnr: 29.77\n"
     ]
    },
    {
     "name": "stderr",
     "output_type": "stream",
     "text": [
      "epoch: 284/399: 100%|██████████| 21872/21872 [00:12<00:00, 1720.95it/s, loss=0.001125]\n",
      "epoch: 285/399:   0%|          | 0/21872 [00:00<?, ?it/s]"
     ]
    },
    {
     "name": "stdout",
     "output_type": "stream",
     "text": [
      "eval psnr: 29.55\n"
     ]
    },
    {
     "name": "stderr",
     "output_type": "stream",
     "text": [
      "epoch: 285/399: 100%|██████████| 21872/21872 [00:12<00:00, 1717.51it/s, loss=0.001124]\n",
      "epoch: 286/399:   0%|          | 0/21872 [00:00<?, ?it/s]"
     ]
    },
    {
     "name": "stdout",
     "output_type": "stream",
     "text": [
      "eval psnr: 29.81\n"
     ]
    },
    {
     "name": "stderr",
     "output_type": "stream",
     "text": [
      "epoch: 286/399: 100%|██████████| 21872/21872 [00:12<00:00, 1736.35it/s, loss=0.001123]\n",
      "epoch: 287/399:   0%|          | 0/21872 [00:00<?, ?it/s]"
     ]
    },
    {
     "name": "stdout",
     "output_type": "stream",
     "text": [
      "eval psnr: 29.66\n"
     ]
    },
    {
     "name": "stderr",
     "output_type": "stream",
     "text": [
      "epoch: 287/399: 100%|██████████| 21872/21872 [00:12<00:00, 1707.50it/s, loss=0.001124]\n",
      "epoch: 288/399:   0%|          | 0/21872 [00:00<?, ?it/s]"
     ]
    },
    {
     "name": "stdout",
     "output_type": "stream",
     "text": [
      "eval psnr: 29.79\n"
     ]
    },
    {
     "name": "stderr",
     "output_type": "stream",
     "text": [
      "epoch: 288/399: 100%|██████████| 21872/21872 [00:12<00:00, 1743.27it/s, loss=0.001124]\n",
      "epoch: 289/399:   0%|          | 0/21872 [00:00<?, ?it/s]"
     ]
    },
    {
     "name": "stdout",
     "output_type": "stream",
     "text": [
      "eval psnr: 29.97\n"
     ]
    },
    {
     "name": "stderr",
     "output_type": "stream",
     "text": [
      "epoch: 289/399: 100%|██████████| 21872/21872 [00:12<00:00, 1736.59it/s, loss=0.001124]\n",
      "epoch: 290/399:   0%|          | 0/21872 [00:00<?, ?it/s]"
     ]
    },
    {
     "name": "stdout",
     "output_type": "stream",
     "text": [
      "eval psnr: 29.85\n"
     ]
    },
    {
     "name": "stderr",
     "output_type": "stream",
     "text": [
      "epoch: 290/399: 100%|██████████| 21872/21872 [00:12<00:00, 1692.35it/s, loss=0.001124]\n",
      "epoch: 291/399:   0%|          | 0/21872 [00:00<?, ?it/s]"
     ]
    },
    {
     "name": "stdout",
     "output_type": "stream",
     "text": [
      "eval psnr: 29.79\n"
     ]
    },
    {
     "name": "stderr",
     "output_type": "stream",
     "text": [
      "epoch: 291/399: 100%|██████████| 21872/21872 [00:12<00:00, 1742.93it/s, loss=0.001124]\n",
      "epoch: 292/399:   0%|          | 0/21872 [00:00<?, ?it/s]"
     ]
    },
    {
     "name": "stdout",
     "output_type": "stream",
     "text": [
      "eval psnr: 30.32\n"
     ]
    },
    {
     "name": "stderr",
     "output_type": "stream",
     "text": [
      "epoch: 292/399: 100%|██████████| 21872/21872 [00:12<00:00, 1740.77it/s, loss=0.001124]\n",
      "epoch: 293/399:   0%|          | 0/21872 [00:00<?, ?it/s]"
     ]
    },
    {
     "name": "stdout",
     "output_type": "stream",
     "text": [
      "eval psnr: 29.71\n"
     ]
    },
    {
     "name": "stderr",
     "output_type": "stream",
     "text": [
      "epoch: 293/399: 100%|██████████| 21872/21872 [00:12<00:00, 1785.78it/s, loss=0.001123]\n",
      "epoch: 294/399:   0%|          | 0/21872 [00:00<?, ?it/s]"
     ]
    },
    {
     "name": "stdout",
     "output_type": "stream",
     "text": [
      "eval psnr: 29.73\n"
     ]
    },
    {
     "name": "stderr",
     "output_type": "stream",
     "text": [
      "epoch: 294/399: 100%|██████████| 21872/21872 [00:12<00:00, 1758.03it/s, loss=0.001124]\n",
      "epoch: 295/399:   0%|          | 0/21872 [00:00<?, ?it/s]"
     ]
    },
    {
     "name": "stdout",
     "output_type": "stream",
     "text": [
      "eval psnr: 29.97\n"
     ]
    },
    {
     "name": "stderr",
     "output_type": "stream",
     "text": [
      "epoch: 295/399: 100%|██████████| 21872/21872 [00:13<00:00, 1666.84it/s, loss=0.001123]\n",
      "epoch: 296/399:   0%|          | 0/21872 [00:00<?, ?it/s]"
     ]
    },
    {
     "name": "stdout",
     "output_type": "stream",
     "text": [
      "eval psnr: 29.99\n"
     ]
    },
    {
     "name": "stderr",
     "output_type": "stream",
     "text": [
      "epoch: 296/399: 100%|██████████| 21872/21872 [00:12<00:00, 1711.39it/s, loss=0.001123]\n",
      "epoch: 297/399:   0%|          | 0/21872 [00:00<?, ?it/s]"
     ]
    },
    {
     "name": "stdout",
     "output_type": "stream",
     "text": [
      "eval psnr: 29.84\n"
     ]
    },
    {
     "name": "stderr",
     "output_type": "stream",
     "text": [
      "epoch: 297/399: 100%|██████████| 21872/21872 [00:12<00:00, 1767.07it/s, loss=0.001123]\n",
      "epoch: 298/399:   0%|          | 0/21872 [00:00<?, ?it/s]"
     ]
    },
    {
     "name": "stdout",
     "output_type": "stream",
     "text": [
      "eval psnr: 29.70\n"
     ]
    },
    {
     "name": "stderr",
     "output_type": "stream",
     "text": [
      "epoch: 298/399: 100%|██████████| 21872/21872 [00:12<00:00, 1718.11it/s, loss=0.001123]\n",
      "epoch: 299/399:   0%|          | 0/21872 [00:00<?, ?it/s]"
     ]
    },
    {
     "name": "stdout",
     "output_type": "stream",
     "text": [
      "eval psnr: 29.99\n"
     ]
    },
    {
     "name": "stderr",
     "output_type": "stream",
     "text": [
      "epoch: 299/399: 100%|██████████| 21872/21872 [00:12<00:00, 1778.68it/s, loss=0.001123]\n",
      "epoch: 300/399:   0%|          | 0/21872 [00:00<?, ?it/s]"
     ]
    },
    {
     "name": "stdout",
     "output_type": "stream",
     "text": [
      "eval psnr: 29.88\n"
     ]
    },
    {
     "name": "stderr",
     "output_type": "stream",
     "text": [
      "epoch: 300/399: 100%|██████████| 21872/21872 [00:12<00:00, 1698.99it/s, loss=0.001123]\n",
      "epoch: 301/399:   0%|          | 0/21872 [00:00<?, ?it/s]"
     ]
    },
    {
     "name": "stdout",
     "output_type": "stream",
     "text": [
      "eval psnr: 29.95\n"
     ]
    },
    {
     "name": "stderr",
     "output_type": "stream",
     "text": [
      "epoch: 301/399: 100%|██████████| 21872/21872 [00:12<00:00, 1710.93it/s, loss=0.001123]\n",
      "epoch: 302/399:   0%|          | 0/21872 [00:00<?, ?it/s]"
     ]
    },
    {
     "name": "stdout",
     "output_type": "stream",
     "text": [
      "eval psnr: 30.05\n"
     ]
    },
    {
     "name": "stderr",
     "output_type": "stream",
     "text": [
      "epoch: 302/399: 100%|██████████| 21872/21872 [00:12<00:00, 1748.17it/s, loss=0.001123]\n",
      "epoch: 303/399:   0%|          | 0/21872 [00:00<?, ?it/s]"
     ]
    },
    {
     "name": "stdout",
     "output_type": "stream",
     "text": [
      "eval psnr: 30.01\n"
     ]
    },
    {
     "name": "stderr",
     "output_type": "stream",
     "text": [
      "epoch: 303/399: 100%|██████████| 21872/21872 [00:12<00:00, 1737.11it/s, loss=0.001122]\n",
      "epoch: 304/399:   0%|          | 0/21872 [00:00<?, ?it/s]"
     ]
    },
    {
     "name": "stdout",
     "output_type": "stream",
     "text": [
      "eval psnr: 29.73\n"
     ]
    },
    {
     "name": "stderr",
     "output_type": "stream",
     "text": [
      "epoch: 304/399: 100%|██████████| 21872/21872 [00:12<00:00, 1721.28it/s, loss=0.001123]\n",
      "epoch: 305/399:   0%|          | 0/21872 [00:00<?, ?it/s]"
     ]
    },
    {
     "name": "stdout",
     "output_type": "stream",
     "text": [
      "eval psnr: 29.81\n"
     ]
    },
    {
     "name": "stderr",
     "output_type": "stream",
     "text": [
      "epoch: 305/399: 100%|██████████| 21872/21872 [00:12<00:00, 1733.82it/s, loss=0.001122]\n",
      "epoch: 306/399:   0%|          | 0/21872 [00:00<?, ?it/s]"
     ]
    },
    {
     "name": "stdout",
     "output_type": "stream",
     "text": [
      "eval psnr: 29.90\n"
     ]
    },
    {
     "name": "stderr",
     "output_type": "stream",
     "text": [
      "epoch: 306/399: 100%|██████████| 21872/21872 [00:12<00:00, 1706.67it/s, loss=0.001122]\n",
      "epoch: 307/399:   0%|          | 0/21872 [00:00<?, ?it/s]"
     ]
    },
    {
     "name": "stdout",
     "output_type": "stream",
     "text": [
      "eval psnr: 30.02\n"
     ]
    },
    {
     "name": "stderr",
     "output_type": "stream",
     "text": [
      "epoch: 307/399: 100%|██████████| 21872/21872 [00:12<00:00, 1760.27it/s, loss=0.001122]\n",
      "epoch: 308/399:   0%|          | 0/21872 [00:00<?, ?it/s]"
     ]
    },
    {
     "name": "stdout",
     "output_type": "stream",
     "text": [
      "eval psnr: 29.96\n"
     ]
    },
    {
     "name": "stderr",
     "output_type": "stream",
     "text": [
      "epoch: 308/399: 100%|██████████| 21872/21872 [00:12<00:00, 1700.76it/s, loss=0.001122]\n",
      "epoch: 309/399:   0%|          | 0/21872 [00:00<?, ?it/s]"
     ]
    },
    {
     "name": "stdout",
     "output_type": "stream",
     "text": [
      "eval psnr: 29.58\n"
     ]
    },
    {
     "name": "stderr",
     "output_type": "stream",
     "text": [
      "epoch: 309/399: 100%|██████████| 21872/21872 [00:12<00:00, 1708.69it/s, loss=0.001122]\n",
      "epoch: 310/399:   0%|          | 0/21872 [00:00<?, ?it/s]"
     ]
    },
    {
     "name": "stdout",
     "output_type": "stream",
     "text": [
      "eval psnr: 29.79\n"
     ]
    },
    {
     "name": "stderr",
     "output_type": "stream",
     "text": [
      "epoch: 310/399: 100%|██████████| 21872/21872 [00:13<00:00, 1610.36it/s, loss=0.001121]\n",
      "epoch: 311/399:   0%|          | 0/21872 [00:00<?, ?it/s]"
     ]
    },
    {
     "name": "stdout",
     "output_type": "stream",
     "text": [
      "eval psnr: 29.81\n"
     ]
    },
    {
     "name": "stderr",
     "output_type": "stream",
     "text": [
      "epoch: 311/399: 100%|██████████| 21872/21872 [00:13<00:00, 1600.39it/s, loss=0.001122]\n",
      "epoch: 312/399:   0%|          | 0/21872 [00:00<?, ?it/s]"
     ]
    },
    {
     "name": "stdout",
     "output_type": "stream",
     "text": [
      "eval psnr: 29.92\n"
     ]
    },
    {
     "name": "stderr",
     "output_type": "stream",
     "text": [
      "epoch: 312/399: 100%|██████████| 21872/21872 [00:13<00:00, 1603.37it/s, loss=0.001121]\n",
      "epoch: 313/399:   0%|          | 0/21872 [00:00<?, ?it/s]"
     ]
    },
    {
     "name": "stdout",
     "output_type": "stream",
     "text": [
      "eval psnr: 29.79\n"
     ]
    },
    {
     "name": "stderr",
     "output_type": "stream",
     "text": [
      "epoch: 313/399: 100%|██████████| 21872/21872 [00:13<00:00, 1608.40it/s, loss=0.001121]\n",
      "epoch: 314/399:   0%|          | 0/21872 [00:00<?, ?it/s]"
     ]
    },
    {
     "name": "stdout",
     "output_type": "stream",
     "text": [
      "eval psnr: 29.77\n"
     ]
    },
    {
     "name": "stderr",
     "output_type": "stream",
     "text": [
      "epoch: 314/399: 100%|██████████| 21872/21872 [00:13<00:00, 1604.91it/s, loss=0.001122]\n",
      "epoch: 315/399:   0%|          | 0/21872 [00:00<?, ?it/s]"
     ]
    },
    {
     "name": "stdout",
     "output_type": "stream",
     "text": [
      "eval psnr: 29.93\n"
     ]
    },
    {
     "name": "stderr",
     "output_type": "stream",
     "text": [
      "epoch: 315/399: 100%|██████████| 21872/21872 [00:13<00:00, 1606.14it/s, loss=0.001121]\n",
      "epoch: 316/399:   0%|          | 0/21872 [00:00<?, ?it/s]"
     ]
    },
    {
     "name": "stdout",
     "output_type": "stream",
     "text": [
      "eval psnr: 29.84\n"
     ]
    },
    {
     "name": "stderr",
     "output_type": "stream",
     "text": [
      "epoch: 316/399: 100%|██████████| 21872/21872 [00:13<00:00, 1608.60it/s, loss=0.001121]\n",
      "epoch: 317/399:   0%|          | 0/21872 [00:00<?, ?it/s]"
     ]
    },
    {
     "name": "stdout",
     "output_type": "stream",
     "text": [
      "eval psnr: 29.69\n"
     ]
    },
    {
     "name": "stderr",
     "output_type": "stream",
     "text": [
      "epoch: 317/399: 100%|██████████| 21872/21872 [00:13<00:00, 1601.26it/s, loss=0.001121]\n",
      "epoch: 318/399:   0%|          | 0/21872 [00:00<?, ?it/s]"
     ]
    },
    {
     "name": "stdout",
     "output_type": "stream",
     "text": [
      "eval psnr: 29.76\n"
     ]
    },
    {
     "name": "stderr",
     "output_type": "stream",
     "text": [
      "epoch: 318/399: 100%|██████████| 21872/21872 [00:13<00:00, 1596.92it/s, loss=0.001121]\n",
      "epoch: 319/399:   0%|          | 0/21872 [00:00<?, ?it/s]"
     ]
    },
    {
     "name": "stdout",
     "output_type": "stream",
     "text": [
      "eval psnr: 30.06\n"
     ]
    },
    {
     "name": "stderr",
     "output_type": "stream",
     "text": [
      "epoch: 319/399: 100%|██████████| 21872/21872 [00:13<00:00, 1607.61it/s, loss=0.001121]\n",
      "epoch: 320/399:   0%|          | 0/21872 [00:00<?, ?it/s]"
     ]
    },
    {
     "name": "stdout",
     "output_type": "stream",
     "text": [
      "eval psnr: 29.82\n"
     ]
    },
    {
     "name": "stderr",
     "output_type": "stream",
     "text": [
      "epoch: 320/399: 100%|██████████| 21872/21872 [00:13<00:00, 1609.85it/s, loss=0.001120]\n",
      "epoch: 321/399:   0%|          | 0/21872 [00:00<?, ?it/s]"
     ]
    },
    {
     "name": "stdout",
     "output_type": "stream",
     "text": [
      "eval psnr: 29.81\n"
     ]
    },
    {
     "name": "stderr",
     "output_type": "stream",
     "text": [
      "epoch: 321/399: 100%|██████████| 21872/21872 [00:13<00:00, 1589.01it/s, loss=0.001121]\n",
      "epoch: 322/399:   0%|          | 0/21872 [00:00<?, ?it/s]"
     ]
    },
    {
     "name": "stdout",
     "output_type": "stream",
     "text": [
      "eval psnr: 29.91\n"
     ]
    },
    {
     "name": "stderr",
     "output_type": "stream",
     "text": [
      "epoch: 322/399: 100%|██████████| 21872/21872 [00:13<00:00, 1615.91it/s, loss=0.001120]\n",
      "epoch: 323/399:   0%|          | 0/21872 [00:00<?, ?it/s]"
     ]
    },
    {
     "name": "stdout",
     "output_type": "stream",
     "text": [
      "eval psnr: 29.73\n"
     ]
    },
    {
     "name": "stderr",
     "output_type": "stream",
     "text": [
      "epoch: 323/399: 100%|██████████| 21872/21872 [00:13<00:00, 1606.03it/s, loss=0.001120]\n",
      "epoch: 324/399:   0%|          | 0/21872 [00:00<?, ?it/s]"
     ]
    },
    {
     "name": "stdout",
     "output_type": "stream",
     "text": [
      "eval psnr: 30.22\n"
     ]
    },
    {
     "name": "stderr",
     "output_type": "stream",
     "text": [
      "epoch: 324/399: 100%|██████████| 21872/21872 [00:13<00:00, 1597.22it/s, loss=0.001121]\n",
      "epoch: 325/399:   0%|          | 0/21872 [00:00<?, ?it/s]"
     ]
    },
    {
     "name": "stdout",
     "output_type": "stream",
     "text": [
      "eval psnr: 29.61\n"
     ]
    },
    {
     "name": "stderr",
     "output_type": "stream",
     "text": [
      "epoch: 325/399: 100%|██████████| 21872/21872 [00:12<00:00, 1688.57it/s, loss=0.001120]\n",
      "epoch: 326/399:   0%|          | 0/21872 [00:00<?, ?it/s]"
     ]
    },
    {
     "name": "stdout",
     "output_type": "stream",
     "text": [
      "eval psnr: 29.92\n"
     ]
    },
    {
     "name": "stderr",
     "output_type": "stream",
     "text": [
      "epoch: 326/399: 100%|██████████| 21872/21872 [00:13<00:00, 1675.86it/s, loss=0.001120]\n",
      "epoch: 327/399:   0%|          | 0/21872 [00:00<?, ?it/s]"
     ]
    },
    {
     "name": "stdout",
     "output_type": "stream",
     "text": [
      "eval psnr: 29.84\n"
     ]
    },
    {
     "name": "stderr",
     "output_type": "stream",
     "text": [
      "epoch: 327/399: 100%|██████████| 21872/21872 [00:13<00:00, 1569.32it/s, loss=0.001119]\n",
      "epoch: 328/399:   0%|          | 0/21872 [00:00<?, ?it/s]"
     ]
    },
    {
     "name": "stdout",
     "output_type": "stream",
     "text": [
      "eval psnr: 30.05\n"
     ]
    },
    {
     "name": "stderr",
     "output_type": "stream",
     "text": [
      "epoch: 328/399: 100%|██████████| 21872/21872 [00:13<00:00, 1643.97it/s, loss=0.001120]\n",
      "epoch: 329/399:   0%|          | 0/21872 [00:00<?, ?it/s]"
     ]
    },
    {
     "name": "stdout",
     "output_type": "stream",
     "text": [
      "eval psnr: 29.67\n"
     ]
    },
    {
     "name": "stderr",
     "output_type": "stream",
     "text": [
      "epoch: 329/399: 100%|██████████| 21872/21872 [00:13<00:00, 1596.52it/s, loss=0.001120]\n",
      "epoch: 330/399:   0%|          | 0/21872 [00:00<?, ?it/s]"
     ]
    },
    {
     "name": "stdout",
     "output_type": "stream",
     "text": [
      "eval psnr: 29.79\n"
     ]
    },
    {
     "name": "stderr",
     "output_type": "stream",
     "text": [
      "epoch: 330/399: 100%|██████████| 21872/21872 [00:12<00:00, 1687.06it/s, loss=0.001120]\n",
      "epoch: 331/399:   0%|          | 0/21872 [00:00<?, ?it/s]"
     ]
    },
    {
     "name": "stdout",
     "output_type": "stream",
     "text": [
      "eval psnr: 29.63\n"
     ]
    },
    {
     "name": "stderr",
     "output_type": "stream",
     "text": [
      "epoch: 331/399: 100%|██████████| 21872/21872 [00:13<00:00, 1593.15it/s, loss=0.001120]\n",
      "epoch: 332/399:   0%|          | 0/21872 [00:00<?, ?it/s]"
     ]
    },
    {
     "name": "stdout",
     "output_type": "stream",
     "text": [
      "eval psnr: 29.65\n"
     ]
    },
    {
     "name": "stderr",
     "output_type": "stream",
     "text": [
      "epoch: 332/399: 100%|██████████| 21872/21872 [00:13<00:00, 1605.31it/s, loss=0.001120]\n",
      "epoch: 333/399:   0%|          | 0/21872 [00:00<?, ?it/s]"
     ]
    },
    {
     "name": "stdout",
     "output_type": "stream",
     "text": [
      "eval psnr: 29.62\n"
     ]
    },
    {
     "name": "stderr",
     "output_type": "stream",
     "text": [
      "epoch: 333/399: 100%|██████████| 21872/21872 [00:13<00:00, 1598.62it/s, loss=0.001119]\n",
      "epoch: 334/399:   0%|          | 0/21872 [00:00<?, ?it/s]"
     ]
    },
    {
     "name": "stdout",
     "output_type": "stream",
     "text": [
      "eval psnr: 29.54\n"
     ]
    },
    {
     "name": "stderr",
     "output_type": "stream",
     "text": [
      "epoch: 334/399: 100%|██████████| 21872/21872 [00:13<00:00, 1592.83it/s, loss=0.001120]\n",
      "epoch: 335/399:   0%|          | 0/21872 [00:00<?, ?it/s]"
     ]
    },
    {
     "name": "stdout",
     "output_type": "stream",
     "text": [
      "eval psnr: 29.92\n"
     ]
    },
    {
     "name": "stderr",
     "output_type": "stream",
     "text": [
      "epoch: 335/399: 100%|██████████| 21872/21872 [00:13<00:00, 1579.62it/s, loss=0.001119]\n",
      "epoch: 336/399:   0%|          | 0/21872 [00:00<?, ?it/s]"
     ]
    },
    {
     "name": "stdout",
     "output_type": "stream",
     "text": [
      "eval psnr: 29.72\n"
     ]
    },
    {
     "name": "stderr",
     "output_type": "stream",
     "text": [
      "epoch: 336/399: 100%|██████████| 21872/21872 [00:13<00:00, 1587.05it/s, loss=0.001120]\n",
      "epoch: 337/399:   0%|          | 0/21872 [00:00<?, ?it/s]"
     ]
    },
    {
     "name": "stdout",
     "output_type": "stream",
     "text": [
      "eval psnr: 29.69\n"
     ]
    },
    {
     "name": "stderr",
     "output_type": "stream",
     "text": [
      "epoch: 337/399: 100%|██████████| 21872/21872 [00:13<00:00, 1611.57it/s, loss=0.001119]\n",
      "epoch: 338/399:   0%|          | 0/21872 [00:00<?, ?it/s]"
     ]
    },
    {
     "name": "stdout",
     "output_type": "stream",
     "text": [
      "eval psnr: 29.96\n"
     ]
    },
    {
     "name": "stderr",
     "output_type": "stream",
     "text": [
      "epoch: 338/399: 100%|██████████| 21872/21872 [00:13<00:00, 1604.86it/s, loss=0.001119]\n",
      "epoch: 339/399:   0%|          | 0/21872 [00:00<?, ?it/s]"
     ]
    },
    {
     "name": "stdout",
     "output_type": "stream",
     "text": [
      "eval psnr: 29.85\n"
     ]
    },
    {
     "name": "stderr",
     "output_type": "stream",
     "text": [
      "epoch: 339/399: 100%|██████████| 21872/21872 [00:13<00:00, 1606.80it/s, loss=0.001119]\n",
      "epoch: 340/399:   0%|          | 0/21872 [00:00<?, ?it/s]"
     ]
    },
    {
     "name": "stdout",
     "output_type": "stream",
     "text": [
      "eval psnr: 29.81\n"
     ]
    },
    {
     "name": "stderr",
     "output_type": "stream",
     "text": [
      "epoch: 340/399: 100%|██████████| 21872/21872 [00:13<00:00, 1636.59it/s, loss=0.001119]\n",
      "epoch: 341/399:   0%|          | 0/21872 [00:00<?, ?it/s]"
     ]
    },
    {
     "name": "stdout",
     "output_type": "stream",
     "text": [
      "eval psnr: 29.68\n"
     ]
    },
    {
     "name": "stderr",
     "output_type": "stream",
     "text": [
      "epoch: 341/399: 100%|██████████| 21872/21872 [00:13<00:00, 1606.96it/s, loss=0.001118]\n",
      "epoch: 342/399:   0%|          | 0/21872 [00:00<?, ?it/s]"
     ]
    },
    {
     "name": "stdout",
     "output_type": "stream",
     "text": [
      "eval psnr: 29.72\n"
     ]
    },
    {
     "name": "stderr",
     "output_type": "stream",
     "text": [
      "epoch: 342/399: 100%|██████████| 21872/21872 [00:13<00:00, 1594.92it/s, loss=0.001119]\n",
      "epoch: 343/399:   0%|          | 0/21872 [00:00<?, ?it/s]"
     ]
    },
    {
     "name": "stdout",
     "output_type": "stream",
     "text": [
      "eval psnr: 29.64\n"
     ]
    },
    {
     "name": "stderr",
     "output_type": "stream",
     "text": [
      "epoch: 343/399: 100%|██████████| 21872/21872 [00:13<00:00, 1608.40it/s, loss=0.001119]\n",
      "epoch: 344/399:   0%|          | 0/21872 [00:00<?, ?it/s]"
     ]
    },
    {
     "name": "stdout",
     "output_type": "stream",
     "text": [
      "eval psnr: 29.69\n"
     ]
    },
    {
     "name": "stderr",
     "output_type": "stream",
     "text": [
      "epoch: 344/399: 100%|██████████| 21872/21872 [00:13<00:00, 1597.89it/s, loss=0.001119]\n",
      "epoch: 345/399:   0%|          | 0/21872 [00:00<?, ?it/s]"
     ]
    },
    {
     "name": "stdout",
     "output_type": "stream",
     "text": [
      "eval psnr: 29.51\n"
     ]
    },
    {
     "name": "stderr",
     "output_type": "stream",
     "text": [
      "epoch: 345/399: 100%|██████████| 21872/21872 [00:13<00:00, 1591.24it/s, loss=0.001118]\n",
      "epoch: 346/399:   0%|          | 0/21872 [00:00<?, ?it/s]"
     ]
    },
    {
     "name": "stdout",
     "output_type": "stream",
     "text": [
      "eval psnr: 29.80\n"
     ]
    },
    {
     "name": "stderr",
     "output_type": "stream",
     "text": [
      "epoch: 346/399: 100%|██████████| 21872/21872 [00:13<00:00, 1595.80it/s, loss=0.001118]\n",
      "epoch: 347/399:   0%|          | 0/21872 [00:00<?, ?it/s]"
     ]
    },
    {
     "name": "stdout",
     "output_type": "stream",
     "text": [
      "eval psnr: 29.82\n"
     ]
    },
    {
     "name": "stderr",
     "output_type": "stream",
     "text": [
      "epoch: 347/399: 100%|██████████| 21872/21872 [00:13<00:00, 1619.98it/s, loss=0.001118]\n",
      "epoch: 348/399:   0%|          | 0/21872 [00:00<?, ?it/s]"
     ]
    },
    {
     "name": "stdout",
     "output_type": "stream",
     "text": [
      "eval psnr: 29.78\n"
     ]
    },
    {
     "name": "stderr",
     "output_type": "stream",
     "text": [
      "epoch: 348/399: 100%|██████████| 21872/21872 [00:13<00:00, 1603.71it/s, loss=0.001118]\n",
      "epoch: 349/399:   0%|          | 0/21872 [00:00<?, ?it/s]"
     ]
    },
    {
     "name": "stdout",
     "output_type": "stream",
     "text": [
      "eval psnr: 29.84\n"
     ]
    },
    {
     "name": "stderr",
     "output_type": "stream",
     "text": [
      "epoch: 349/399: 100%|██████████| 21872/21872 [00:13<00:00, 1582.00it/s, loss=0.001118]\n",
      "epoch: 350/399:   0%|          | 0/21872 [00:00<?, ?it/s]"
     ]
    },
    {
     "name": "stdout",
     "output_type": "stream",
     "text": [
      "eval psnr: 29.78\n"
     ]
    },
    {
     "name": "stderr",
     "output_type": "stream",
     "text": [
      "epoch: 350/399: 100%|██████████| 21872/21872 [00:13<00:00, 1596.87it/s, loss=0.001118]\n",
      "epoch: 351/399:   0%|          | 0/21872 [00:00<?, ?it/s]"
     ]
    },
    {
     "name": "stdout",
     "output_type": "stream",
     "text": [
      "eval psnr: 29.59\n"
     ]
    },
    {
     "name": "stderr",
     "output_type": "stream",
     "text": [
      "epoch: 351/399: 100%|██████████| 21872/21872 [00:13<00:00, 1612.44it/s, loss=0.001118]\n",
      "epoch: 352/399:   0%|          | 0/21872 [00:00<?, ?it/s]"
     ]
    },
    {
     "name": "stdout",
     "output_type": "stream",
     "text": [
      "eval psnr: 29.66\n"
     ]
    },
    {
     "name": "stderr",
     "output_type": "stream",
     "text": [
      "epoch: 352/399: 100%|██████████| 21872/21872 [00:12<00:00, 1736.71it/s, loss=0.001117]\n",
      "epoch: 353/399:   0%|          | 0/21872 [00:00<?, ?it/s]"
     ]
    },
    {
     "name": "stdout",
     "output_type": "stream",
     "text": [
      "eval psnr: 29.83\n"
     ]
    },
    {
     "name": "stderr",
     "output_type": "stream",
     "text": [
      "epoch: 353/399: 100%|██████████| 21872/21872 [00:12<00:00, 1786.41it/s, loss=0.001118]\n",
      "epoch: 354/399:   0%|          | 0/21872 [00:00<?, ?it/s]"
     ]
    },
    {
     "name": "stdout",
     "output_type": "stream",
     "text": [
      "eval psnr: 29.82\n"
     ]
    },
    {
     "name": "stderr",
     "output_type": "stream",
     "text": [
      "epoch: 354/399: 100%|██████████| 21872/21872 [00:12<00:00, 1745.73it/s, loss=0.001117]\n",
      "epoch: 355/399:   0%|          | 0/21872 [00:00<?, ?it/s]"
     ]
    },
    {
     "name": "stdout",
     "output_type": "stream",
     "text": [
      "eval psnr: 29.71\n"
     ]
    },
    {
     "name": "stderr",
     "output_type": "stream",
     "text": [
      "epoch: 355/399: 100%|██████████| 21872/21872 [00:12<00:00, 1817.84it/s, loss=0.001118]\n",
      "epoch: 356/399:   0%|          | 0/21872 [00:00<?, ?it/s]"
     ]
    },
    {
     "name": "stdout",
     "output_type": "stream",
     "text": [
      "eval psnr: 29.77\n"
     ]
    },
    {
     "name": "stderr",
     "output_type": "stream",
     "text": [
      "epoch: 356/399: 100%|██████████| 21872/21872 [00:12<00:00, 1822.64it/s, loss=0.001117]\n",
      "epoch: 357/399:   0%|          | 0/21872 [00:00<?, ?it/s]"
     ]
    },
    {
     "name": "stdout",
     "output_type": "stream",
     "text": [
      "eval psnr: 29.94\n"
     ]
    },
    {
     "name": "stderr",
     "output_type": "stream",
     "text": [
      "epoch: 357/399: 100%|██████████| 21872/21872 [00:12<00:00, 1777.22it/s, loss=0.001117]\n",
      "epoch: 358/399:   0%|          | 0/21872 [00:00<?, ?it/s]"
     ]
    },
    {
     "name": "stdout",
     "output_type": "stream",
     "text": [
      "eval psnr: 29.54\n"
     ]
    },
    {
     "name": "stderr",
     "output_type": "stream",
     "text": [
      "epoch: 358/399: 100%|██████████| 21872/21872 [00:11<00:00, 1876.22it/s, loss=0.001117]\n",
      "epoch: 359/399:   0%|          | 0/21872 [00:00<?, ?it/s]"
     ]
    },
    {
     "name": "stdout",
     "output_type": "stream",
     "text": [
      "eval psnr: 29.66\n"
     ]
    },
    {
     "name": "stderr",
     "output_type": "stream",
     "text": [
      "epoch: 359/399: 100%|██████████| 21872/21872 [00:11<00:00, 1852.61it/s, loss=0.001117]\n",
      "epoch: 360/399:   0%|          | 0/21872 [00:00<?, ?it/s]"
     ]
    },
    {
     "name": "stdout",
     "output_type": "stream",
     "text": [
      "eval psnr: 29.75\n"
     ]
    },
    {
     "name": "stderr",
     "output_type": "stream",
     "text": [
      "epoch: 360/399: 100%|██████████| 21872/21872 [00:11<00:00, 1836.85it/s, loss=0.001117]\n",
      "epoch: 361/399:   0%|          | 0/21872 [00:00<?, ?it/s]"
     ]
    },
    {
     "name": "stdout",
     "output_type": "stream",
     "text": [
      "eval psnr: 29.89\n"
     ]
    },
    {
     "name": "stderr",
     "output_type": "stream",
     "text": [
      "epoch: 361/399: 100%|██████████| 21872/21872 [00:11<00:00, 1856.25it/s, loss=0.001117]\n",
      "epoch: 362/399:   0%|          | 0/21872 [00:00<?, ?it/s]"
     ]
    },
    {
     "name": "stdout",
     "output_type": "stream",
     "text": [
      "eval psnr: 29.73\n"
     ]
    },
    {
     "name": "stderr",
     "output_type": "stream",
     "text": [
      "epoch: 362/399: 100%|██████████| 21872/21872 [00:11<00:00, 1867.75it/s, loss=0.001117]\n",
      "epoch: 363/399:   0%|          | 0/21872 [00:00<?, ?it/s]"
     ]
    },
    {
     "name": "stdout",
     "output_type": "stream",
     "text": [
      "eval psnr: 29.62\n"
     ]
    },
    {
     "name": "stderr",
     "output_type": "stream",
     "text": [
      "epoch: 363/399: 100%|██████████| 21872/21872 [00:11<00:00, 1830.78it/s, loss=0.001117]\n",
      "epoch: 364/399:   0%|          | 0/21872 [00:00<?, ?it/s]"
     ]
    },
    {
     "name": "stdout",
     "output_type": "stream",
     "text": [
      "eval psnr: 29.79\n"
     ]
    },
    {
     "name": "stderr",
     "output_type": "stream",
     "text": [
      "epoch: 364/399: 100%|██████████| 21872/21872 [00:12<00:00, 1811.02it/s, loss=0.001116]\n",
      "epoch: 365/399:   0%|          | 0/21872 [00:00<?, ?it/s]"
     ]
    },
    {
     "name": "stdout",
     "output_type": "stream",
     "text": [
      "eval psnr: 29.67\n"
     ]
    },
    {
     "name": "stderr",
     "output_type": "stream",
     "text": [
      "epoch: 365/399: 100%|██████████| 21872/21872 [00:11<00:00, 1876.47it/s, loss=0.001117]\n",
      "epoch: 366/399:   0%|          | 0/21872 [00:00<?, ?it/s]"
     ]
    },
    {
     "name": "stdout",
     "output_type": "stream",
     "text": [
      "eval psnr: 29.74\n"
     ]
    },
    {
     "name": "stderr",
     "output_type": "stream",
     "text": [
      "epoch: 366/399: 100%|██████████| 21872/21872 [00:11<00:00, 1857.27it/s, loss=0.001116]\n",
      "epoch: 367/399:   0%|          | 0/21872 [00:00<?, ?it/s]"
     ]
    },
    {
     "name": "stdout",
     "output_type": "stream",
     "text": [
      "eval psnr: 29.79\n"
     ]
    },
    {
     "name": "stderr",
     "output_type": "stream",
     "text": [
      "epoch: 367/399: 100%|██████████| 21872/21872 [00:11<00:00, 1866.90it/s, loss=0.001116]\n",
      "epoch: 368/399:   0%|          | 0/21872 [00:00<?, ?it/s]"
     ]
    },
    {
     "name": "stdout",
     "output_type": "stream",
     "text": [
      "eval psnr: 29.67\n"
     ]
    },
    {
     "name": "stderr",
     "output_type": "stream",
     "text": [
      "epoch: 368/399: 100%|██████████| 21872/21872 [00:11<00:00, 1847.81it/s, loss=0.001116]\n",
      "epoch: 369/399:   0%|          | 0/21872 [00:00<?, ?it/s]"
     ]
    },
    {
     "name": "stdout",
     "output_type": "stream",
     "text": [
      "eval psnr: 29.92\n"
     ]
    },
    {
     "name": "stderr",
     "output_type": "stream",
     "text": [
      "epoch: 369/399: 100%|██████████| 21872/21872 [00:13<00:00, 1600.12it/s, loss=0.001117]\n",
      "epoch: 370/399:   0%|          | 0/21872 [00:00<?, ?it/s]"
     ]
    },
    {
     "name": "stdout",
     "output_type": "stream",
     "text": [
      "eval psnr: 29.60\n"
     ]
    },
    {
     "name": "stderr",
     "output_type": "stream",
     "text": [
      "epoch: 370/399: 100%|██████████| 21872/21872 [00:17<00:00, 1259.97it/s, loss=0.001116]\n",
      "epoch: 371/399:   0%|          | 0/21872 [00:00<?, ?it/s]"
     ]
    },
    {
     "name": "stdout",
     "output_type": "stream",
     "text": [
      "eval psnr: 29.89\n"
     ]
    },
    {
     "name": "stderr",
     "output_type": "stream",
     "text": [
      "epoch: 371/399: 100%|██████████| 21872/21872 [00:16<00:00, 1362.68it/s, loss=0.001117]\n",
      "epoch: 372/399:   0%|          | 0/21872 [00:00<?, ?it/s]"
     ]
    },
    {
     "name": "stdout",
     "output_type": "stream",
     "text": [
      "eval psnr: 29.89\n"
     ]
    },
    {
     "name": "stderr",
     "output_type": "stream",
     "text": [
      "epoch: 372/399: 100%|██████████| 21872/21872 [00:15<00:00, 1373.83it/s, loss=0.001116]\n",
      "epoch: 373/399:   0%|          | 0/21872 [00:00<?, ?it/s]"
     ]
    },
    {
     "name": "stdout",
     "output_type": "stream",
     "text": [
      "eval psnr: 29.83\n"
     ]
    },
    {
     "name": "stderr",
     "output_type": "stream",
     "text": [
      "epoch: 373/399: 100%|██████████| 21872/21872 [00:17<00:00, 1253.77it/s, loss=0.001116]\n",
      "epoch: 374/399:   0%|          | 0/21872 [00:00<?, ?it/s]"
     ]
    },
    {
     "name": "stdout",
     "output_type": "stream",
     "text": [
      "eval psnr: 29.73\n"
     ]
    },
    {
     "name": "stderr",
     "output_type": "stream",
     "text": [
      "epoch: 374/399: 100%|██████████| 21872/21872 [00:16<00:00, 1350.20it/s, loss=0.001116]\n",
      "epoch: 375/399:   0%|          | 0/21872 [00:00<?, ?it/s]"
     ]
    },
    {
     "name": "stdout",
     "output_type": "stream",
     "text": [
      "eval psnr: 29.68\n"
     ]
    },
    {
     "name": "stderr",
     "output_type": "stream",
     "text": [
      "epoch: 375/399: 100%|██████████| 21872/21872 [00:17<00:00, 1266.09it/s, loss=0.001116]\n",
      "epoch: 376/399:   0%|          | 0/21872 [00:00<?, ?it/s]"
     ]
    },
    {
     "name": "stdout",
     "output_type": "stream",
     "text": [
      "eval psnr: 29.75\n"
     ]
    },
    {
     "name": "stderr",
     "output_type": "stream",
     "text": [
      "epoch: 376/399: 100%|██████████| 21872/21872 [00:17<00:00, 1274.87it/s, loss=0.001116]\n",
      "epoch: 377/399:   0%|          | 0/21872 [00:00<?, ?it/s]"
     ]
    },
    {
     "name": "stdout",
     "output_type": "stream",
     "text": [
      "eval psnr: 29.79\n"
     ]
    },
    {
     "name": "stderr",
     "output_type": "stream",
     "text": [
      "epoch: 377/399: 100%|██████████| 21872/21872 [00:16<00:00, 1362.52it/s, loss=0.001115]\n",
      "epoch: 378/399:   0%|          | 0/21872 [00:00<?, ?it/s]"
     ]
    },
    {
     "name": "stdout",
     "output_type": "stream",
     "text": [
      "eval psnr: 29.80\n"
     ]
    },
    {
     "name": "stderr",
     "output_type": "stream",
     "text": [
      "epoch: 378/399: 100%|██████████| 21872/21872 [00:17<00:00, 1239.50it/s, loss=0.001115]\n",
      "epoch: 379/399:   0%|          | 0/21872 [00:00<?, ?it/s]"
     ]
    },
    {
     "name": "stdout",
     "output_type": "stream",
     "text": [
      "eval psnr: 29.89\n"
     ]
    },
    {
     "name": "stderr",
     "output_type": "stream",
     "text": [
      "epoch: 379/399: 100%|██████████| 21872/21872 [00:16<00:00, 1355.77it/s, loss=0.001115]\n",
      "epoch: 380/399:   0%|          | 0/21872 [00:00<?, ?it/s]"
     ]
    },
    {
     "name": "stdout",
     "output_type": "stream",
     "text": [
      "eval psnr: 29.79\n"
     ]
    },
    {
     "name": "stderr",
     "output_type": "stream",
     "text": [
      "epoch: 380/399: 100%|██████████| 21872/21872 [00:16<00:00, 1323.58it/s, loss=0.001116]\n",
      "epoch: 381/399:   0%|          | 0/21872 [00:00<?, ?it/s]"
     ]
    },
    {
     "name": "stdout",
     "output_type": "stream",
     "text": [
      "eval psnr: 29.83\n"
     ]
    },
    {
     "name": "stderr",
     "output_type": "stream",
     "text": [
      "epoch: 381/399: 100%|██████████| 21872/21872 [00:17<00:00, 1252.18it/s, loss=0.001115]\n",
      "epoch: 382/399:   0%|          | 0/21872 [00:00<?, ?it/s]"
     ]
    },
    {
     "name": "stdout",
     "output_type": "stream",
     "text": [
      "eval psnr: 29.71\n"
     ]
    },
    {
     "name": "stderr",
     "output_type": "stream",
     "text": [
      "epoch: 382/399: 100%|██████████| 21872/21872 [00:15<00:00, 1369.55it/s, loss=0.001115]\n",
      "epoch: 383/399:   0%|          | 0/21872 [00:00<?, ?it/s]"
     ]
    },
    {
     "name": "stdout",
     "output_type": "stream",
     "text": [
      "eval psnr: 29.68\n"
     ]
    },
    {
     "name": "stderr",
     "output_type": "stream",
     "text": [
      "epoch: 383/399: 100%|██████████| 21872/21872 [00:17<00:00, 1234.06it/s, loss=0.001115]\n",
      "epoch: 384/399:   0%|          | 0/21872 [00:00<?, ?it/s]"
     ]
    },
    {
     "name": "stdout",
     "output_type": "stream",
     "text": [
      "eval psnr: 29.93\n"
     ]
    },
    {
     "name": "stderr",
     "output_type": "stream",
     "text": [
      "epoch: 384/399: 100%|██████████| 21872/21872 [00:16<00:00, 1304.20it/s, loss=0.001115]\n",
      "epoch: 385/399:   0%|          | 0/21872 [00:00<?, ?it/s]"
     ]
    },
    {
     "name": "stdout",
     "output_type": "stream",
     "text": [
      "eval psnr: 29.54\n"
     ]
    },
    {
     "name": "stderr",
     "output_type": "stream",
     "text": [
      "epoch: 385/399: 100%|██████████| 21872/21872 [00:16<00:00, 1352.67it/s, loss=0.001115]\n",
      "epoch: 386/399:   0%|          | 0/21872 [00:00<?, ?it/s]"
     ]
    },
    {
     "name": "stdout",
     "output_type": "stream",
     "text": [
      "eval psnr: 29.65\n"
     ]
    },
    {
     "name": "stderr",
     "output_type": "stream",
     "text": [
      "epoch: 386/399: 100%|██████████| 21872/21872 [00:17<00:00, 1248.14it/s, loss=0.001115]\n",
      "epoch: 387/399:   0%|          | 0/21872 [00:00<?, ?it/s]"
     ]
    },
    {
     "name": "stdout",
     "output_type": "stream",
     "text": [
      "eval psnr: 29.75\n"
     ]
    },
    {
     "name": "stderr",
     "output_type": "stream",
     "text": [
      "epoch: 387/399: 100%|██████████| 21872/21872 [00:16<00:00, 1299.95it/s, loss=0.001115]\n",
      "epoch: 388/399:   0%|          | 0/21872 [00:00<?, ?it/s]"
     ]
    },
    {
     "name": "stdout",
     "output_type": "stream",
     "text": [
      "eval psnr: 29.84\n"
     ]
    },
    {
     "name": "stderr",
     "output_type": "stream",
     "text": [
      "epoch: 388/399: 100%|██████████| 21872/21872 [00:16<00:00, 1312.60it/s, loss=0.001115]\n",
      "epoch: 389/399:   0%|          | 0/21872 [00:00<?, ?it/s]"
     ]
    },
    {
     "name": "stdout",
     "output_type": "stream",
     "text": [
      "eval psnr: 29.72\n"
     ]
    },
    {
     "name": "stderr",
     "output_type": "stream",
     "text": [
      "epoch: 389/399: 100%|██████████| 21872/21872 [00:17<00:00, 1252.77it/s, loss=0.001114]\n",
      "epoch: 390/399:   0%|          | 0/21872 [00:00<?, ?it/s]"
     ]
    },
    {
     "name": "stdout",
     "output_type": "stream",
     "text": [
      "eval psnr: 29.78\n"
     ]
    },
    {
     "name": "stderr",
     "output_type": "stream",
     "text": [
      "epoch: 390/399: 100%|██████████| 21872/21872 [00:16<00:00, 1323.19it/s, loss=0.001114]\n",
      "epoch: 391/399:   0%|          | 0/21872 [00:00<?, ?it/s]"
     ]
    },
    {
     "name": "stdout",
     "output_type": "stream",
     "text": [
      "eval psnr: 29.75\n"
     ]
    },
    {
     "name": "stderr",
     "output_type": "stream",
     "text": [
      "epoch: 391/399: 100%|██████████| 21872/21872 [00:17<00:00, 1222.27it/s, loss=0.001114]\n",
      "epoch: 392/399:   0%|          | 0/21872 [00:00<?, ?it/s]"
     ]
    },
    {
     "name": "stdout",
     "output_type": "stream",
     "text": [
      "eval psnr: 29.75\n"
     ]
    },
    {
     "name": "stderr",
     "output_type": "stream",
     "text": [
      "epoch: 392/399: 100%|██████████| 21872/21872 [00:16<00:00, 1319.08it/s, loss=0.001114]\n",
      "epoch: 393/399:   0%|          | 0/21872 [00:00<?, ?it/s]"
     ]
    },
    {
     "name": "stdout",
     "output_type": "stream",
     "text": [
      "eval psnr: 29.88\n"
     ]
    },
    {
     "name": "stderr",
     "output_type": "stream",
     "text": [
      "epoch: 393/399: 100%|██████████| 21872/21872 [00:16<00:00, 1358.46it/s, loss=0.001114]\n",
      "epoch: 394/399:   0%|          | 0/21872 [00:00<?, ?it/s]"
     ]
    },
    {
     "name": "stdout",
     "output_type": "stream",
     "text": [
      "eval psnr: 29.76\n"
     ]
    },
    {
     "name": "stderr",
     "output_type": "stream",
     "text": [
      "epoch: 394/399: 100%|██████████| 21872/21872 [00:17<00:00, 1219.98it/s, loss=0.001114]\n",
      "epoch: 395/399:   0%|          | 0/21872 [00:00<?, ?it/s]"
     ]
    },
    {
     "name": "stdout",
     "output_type": "stream",
     "text": [
      "eval psnr: 29.81\n"
     ]
    },
    {
     "name": "stderr",
     "output_type": "stream",
     "text": [
      "epoch: 395/399: 100%|██████████| 21872/21872 [00:16<00:00, 1366.93it/s, loss=0.001114]\n",
      "epoch: 396/399:   0%|          | 0/21872 [00:00<?, ?it/s]"
     ]
    },
    {
     "name": "stdout",
     "output_type": "stream",
     "text": [
      "eval psnr: 29.70\n"
     ]
    },
    {
     "name": "stderr",
     "output_type": "stream",
     "text": [
      "epoch: 396/399: 100%|██████████| 21872/21872 [00:17<00:00, 1272.27it/s, loss=0.001114]\n",
      "epoch: 397/399:   0%|          | 0/21872 [00:00<?, ?it/s]"
     ]
    },
    {
     "name": "stdout",
     "output_type": "stream",
     "text": [
      "eval psnr: 29.58\n"
     ]
    },
    {
     "name": "stderr",
     "output_type": "stream",
     "text": [
      "epoch: 397/399: 100%|██████████| 21872/21872 [00:16<00:00, 1289.57it/s, loss=0.001114]\n",
      "epoch: 398/399:   0%|          | 0/21872 [00:00<?, ?it/s]"
     ]
    },
    {
     "name": "stdout",
     "output_type": "stream",
     "text": [
      "eval psnr: 29.65\n"
     ]
    },
    {
     "name": "stderr",
     "output_type": "stream",
     "text": [
      "epoch: 398/399: 100%|██████████| 21872/21872 [00:16<00:00, 1320.37it/s, loss=0.001114]\n",
      "epoch: 399/399:   0%|          | 0/21872 [00:00<?, ?it/s]"
     ]
    },
    {
     "name": "stdout",
     "output_type": "stream",
     "text": [
      "eval psnr: 29.46\n"
     ]
    },
    {
     "name": "stderr",
     "output_type": "stream",
     "text": [
      "epoch: 399/399: 100%|██████████| 21872/21872 [00:17<00:00, 1240.23it/s, loss=0.001113]\n"
     ]
    },
    {
     "name": "stdout",
     "output_type": "stream",
     "text": [
      "eval psnr: 29.74\n",
      "best epoch: 1, psnr: 32.00\n"
     ]
    }
   ],
   "source": [
    "if __name__ == '__main__':\n",
    "    \n",
    "    args = easydict.EasyDict({\n",
    "        \"train_file\": \"/data/super-resolution/91_data/91-image_x3.h5\",\n",
    "        \"eval_file\": \"/data/super-resolution/91_data/Set5_x2.h5\",\n",
    "        \"outputs_dir\": \"/model/output/srcnn\",\n",
    "        \"scale\": 3,\n",
    "        \"lr\": 1e-4,\n",
    "        \"batch_size\": 16,\n",
    "        \"num_epochs\": 400,\n",
    "        \"num_workers\" : 8,\n",
    "        \"seed\": 123,\n",
    "})\n",
    "\n",
    "    \n",
    "    train(args.train_file, args.eval_file, args.outputs_dir, args.scale, args.lr,\n",
    "         args.batch_size, args.num_epochs, args.num_workers, args.seed)\n",
    "    \n",
    "    "
   ]
  },
  {
   "cell_type": "code",
   "execution_count": null,
   "metadata": {},
   "outputs": [],
   "source": []
  }
 ],
 "metadata": {
  "celltoolbar": "Tags",
  "kernelspec": {
   "display_name": "Python 3",
   "language": "python",
   "name": "python3"
  },
  "language_info": {
   "codemirror_mode": {
    "name": "ipython",
    "version": 3
   },
   "file_extension": ".py",
   "mimetype": "text/x-python",
   "name": "python",
   "nbconvert_exporter": "python",
   "pygments_lexer": "ipython3",
   "version": "3.6.5"
  }
 },
 "nbformat": 4,
 "nbformat_minor": 2
}
